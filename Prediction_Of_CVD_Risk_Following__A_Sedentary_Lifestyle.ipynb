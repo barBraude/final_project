{
  "cells": [
    {
      "cell_type": "markdown",
      "metadata": {
        "colab_type": "text",
        "id": "view-in-github"
      },
      "source": [
        "<a href=\"https://colab.research.google.com/github/barBraude/final_project/blob/confusion-matrix/Prediction_Of_CVD_Risk_Following__A_Sedentary_Lifestyle.ipynb\" target=\"_parent\"><img src=\"https://colab.research.google.com/assets/colab-badge.svg\" alt=\"Open In Colab\"/></a>"
      ]
    },
    {
      "cell_type": "code",
      "execution_count": 1,
      "metadata": {
        "id": "b_tf-9d3ElWZ"
      },
      "outputs": [],
      "source": [
        "import pandas as pd\n",
        "import numpy as np\n",
        "import seaborn as sns"
      ]
    },
    {
      "cell_type": "code",
      "execution_count": 2,
      "metadata": {
        "colab": {
          "base_uri": "https://localhost:8080/"
        },
        "id": "E9YGBFxsEt6K",
        "outputId": "ca3693cd-8597-4a75-ebb6-de494cd2dea8"
      },
      "outputs": [
        {
          "name": "stdout",
          "output_type": "stream",
          "text": [
            "Mounted at /content/gdrive\n"
          ]
        }
      ],
      "source": [
        "from google.colab import drive\n",
        "drive.mount('/content/gdrive')\n",
        "df= pd.read_csv(\"/content/gdrive/MyDrive/Final project Bar &Rinat/datasets and papers/datasets/mockdata.csv\")"
      ]
    },
    {
      "cell_type": "markdown",
      "metadata": {
        "id": "fci1wSaWwb3U"
      },
      "source": [
        "# **Data Preparation**"
      ]
    },
    {
      "cell_type": "markdown",
      "metadata": {
        "id": "Wlu4g6CkvSow"
      },
      "source": [
        " **Remove the columns that their mean is less then 15%**"
      ]
    },
    {
      "cell_type": "code",
      "execution_count": 3,
      "metadata": {
        "colab": {
          "base_uri": "https://localhost:8080/",
          "height": 423
        },
        "id": "JejPaJSsE7_b",
        "outputId": "53acd6fb-5ca5-4b13-a3a8-a3dc3070cd5d"
      },
      "outputs": [
        {
          "data": {
            "text/html": [
              "\n",
              "  <div id=\"df-720942a4-d6c9-4ee8-9a7f-03830216c1a3\">\n",
              "    <div class=\"colab-df-container\">\n",
              "      <div>\n",
              "<style scoped>\n",
              "    .dataframe tbody tr th:only-of-type {\n",
              "        vertical-align: middle;\n",
              "    }\n",
              "\n",
              "    .dataframe tbody tr th {\n",
              "        vertical-align: top;\n",
              "    }\n",
              "\n",
              "    .dataframe thead th {\n",
              "        text-align: right;\n",
              "    }\n",
              "</style>\n",
              "<table border=\"1\" class=\"dataframe\">\n",
              "  <thead>\n",
              "    <tr style=\"text-align: right;\">\n",
              "      <th></th>\n",
              "      <th>CHRONO_4_CAT</th>\n",
              "      <th>AGE</th>\n",
              "      <th>RESIDENCE</th>\n",
              "      <th>BODY_FAT</th>\n",
              "      <th>WHOLE_BODY_FAT</th>\n",
              "      <th>WHOLE_BODY_FATFREE</th>\n",
              "      <th>SEASON_ASSESS</th>\n",
              "      <th>DRIVE</th>\n",
              "      <th>SUMMER</th>\n",
              "      <th>WINTER</th>\n",
              "      <th>...</th>\n",
              "      <th>BP_MEDS_ALL</th>\n",
              "      <th>SYS_BP_AUTO</th>\n",
              "      <th>DIA_BP_AUTO</th>\n",
              "      <th>ALCOHOL_STATUS</th>\n",
              "      <th>ALCOHOL_INTAKE</th>\n",
              "      <th>FRUIT_VEG</th>\n",
              "      <th>FRUITVEG_REC</th>\n",
              "      <th>N</th>\n",
              "      <th>FULL_CVD_RISK</th>\n",
              "      <th>DRIVE_HRS</th>\n",
              "    </tr>\n",
              "  </thead>\n",
              "  <tbody>\n",
              "    <tr>\n",
              "      <th>0</th>\n",
              "      <td>3</td>\n",
              "      <td>43</td>\n",
              "      <td>1.0</td>\n",
              "      <td>36.8</td>\n",
              "      <td>26.1</td>\n",
              "      <td>44.8</td>\n",
              "      <td>2</td>\n",
              "      <td>2.0</td>\n",
              "      <td>3.0</td>\n",
              "      <td>0.5</td>\n",
              "      <td>...</td>\n",
              "      <td>0</td>\n",
              "      <td>119</td>\n",
              "      <td>71</td>\n",
              "      <td>2.0</td>\n",
              "      <td>3.0</td>\n",
              "      <td>1.333333</td>\n",
              "      <td>0.0</td>\n",
              "      <td>1</td>\n",
              "      <td>0.164995</td>\n",
              "      <td>2</td>\n",
              "    </tr>\n",
              "    <tr>\n",
              "      <th>1</th>\n",
              "      <td>3</td>\n",
              "      <td>46</td>\n",
              "      <td>1.0</td>\n",
              "      <td>43.5</td>\n",
              "      <td>51.7</td>\n",
              "      <td>67.2</td>\n",
              "      <td>1</td>\n",
              "      <td>1.0</td>\n",
              "      <td>3.0</td>\n",
              "      <td>1.0</td>\n",
              "      <td>...</td>\n",
              "      <td>1</td>\n",
              "      <td>142</td>\n",
              "      <td>92</td>\n",
              "      <td>2.0</td>\n",
              "      <td>2.0</td>\n",
              "      <td>3.000000</td>\n",
              "      <td>0.0</td>\n",
              "      <td>2</td>\n",
              "      <td>0.505950</td>\n",
              "      <td>1</td>\n",
              "    </tr>\n",
              "    <tr>\n",
              "      <th>2</th>\n",
              "      <td>2</td>\n",
              "      <td>47</td>\n",
              "      <td>1.0</td>\n",
              "      <td>31.8</td>\n",
              "      <td>18.3</td>\n",
              "      <td>39.2</td>\n",
              "      <td>4</td>\n",
              "      <td>1.0</td>\n",
              "      <td>1.0</td>\n",
              "      <td>0.5</td>\n",
              "      <td>...</td>\n",
              "      <td>0</td>\n",
              "      <td>177</td>\n",
              "      <td>95</td>\n",
              "      <td>2.0</td>\n",
              "      <td>1.0</td>\n",
              "      <td>1.833333</td>\n",
              "      <td>0.0</td>\n",
              "      <td>3</td>\n",
              "      <td>0.307337</td>\n",
              "      <td>1</td>\n",
              "    </tr>\n",
              "    <tr>\n",
              "      <th>3</th>\n",
              "      <td>2</td>\n",
              "      <td>63</td>\n",
              "      <td>2.0</td>\n",
              "      <td>37.2</td>\n",
              "      <td>27.0</td>\n",
              "      <td>45.6</td>\n",
              "      <td>4</td>\n",
              "      <td>2.0</td>\n",
              "      <td>3.0</td>\n",
              "      <td>1.0</td>\n",
              "      <td>...</td>\n",
              "      <td>1</td>\n",
              "      <td>129</td>\n",
              "      <td>78</td>\n",
              "      <td>2.0</td>\n",
              "      <td>3.0</td>\n",
              "      <td>5.000000</td>\n",
              "      <td>1.0</td>\n",
              "      <td>4</td>\n",
              "      <td>0.535705</td>\n",
              "      <td>2</td>\n",
              "    </tr>\n",
              "    <tr>\n",
              "      <th>4</th>\n",
              "      <td>4</td>\n",
              "      <td>54</td>\n",
              "      <td>1.0</td>\n",
              "      <td>36.9</td>\n",
              "      <td>24.7</td>\n",
              "      <td>42.3</td>\n",
              "      <td>3</td>\n",
              "      <td>1.0</td>\n",
              "      <td>0.5</td>\n",
              "      <td>0.5</td>\n",
              "      <td>...</td>\n",
              "      <td>0</td>\n",
              "      <td>119</td>\n",
              "      <td>72</td>\n",
              "      <td>2.0</td>\n",
              "      <td>2.0</td>\n",
              "      <td>4.333333</td>\n",
              "      <td>0.0</td>\n",
              "      <td>5</td>\n",
              "      <td>0.281880</td>\n",
              "      <td>1</td>\n",
              "    </tr>\n",
              "    <tr>\n",
              "      <th>...</th>\n",
              "      <td>...</td>\n",
              "      <td>...</td>\n",
              "      <td>...</td>\n",
              "      <td>...</td>\n",
              "      <td>...</td>\n",
              "      <td>...</td>\n",
              "      <td>...</td>\n",
              "      <td>...</td>\n",
              "      <td>...</td>\n",
              "      <td>...</td>\n",
              "      <td>...</td>\n",
              "      <td>...</td>\n",
              "      <td>...</td>\n",
              "      <td>...</td>\n",
              "      <td>...</td>\n",
              "      <td>...</td>\n",
              "      <td>...</td>\n",
              "      <td>...</td>\n",
              "      <td>...</td>\n",
              "      <td>...</td>\n",
              "      <td>...</td>\n",
              "    </tr>\n",
              "    <tr>\n",
              "      <th>4995</th>\n",
              "      <td>1</td>\n",
              "      <td>69</td>\n",
              "      <td>1.0</td>\n",
              "      <td>26.5</td>\n",
              "      <td>17.2</td>\n",
              "      <td>47.6</td>\n",
              "      <td>4</td>\n",
              "      <td>0.0</td>\n",
              "      <td>2.0</td>\n",
              "      <td>1.0</td>\n",
              "      <td>...</td>\n",
              "      <td>0</td>\n",
              "      <td>134</td>\n",
              "      <td>86</td>\n",
              "      <td>2.0</td>\n",
              "      <td>3.0</td>\n",
              "      <td>3.333333</td>\n",
              "      <td>0.0</td>\n",
              "      <td>4996</td>\n",
              "      <td>0.569880</td>\n",
              "      <td>0</td>\n",
              "    </tr>\n",
              "    <tr>\n",
              "      <th>4996</th>\n",
              "      <td>4</td>\n",
              "      <td>70</td>\n",
              "      <td>1.0</td>\n",
              "      <td>35.0</td>\n",
              "      <td>39.4</td>\n",
              "      <td>73.1</td>\n",
              "      <td>4</td>\n",
              "      <td>0.0</td>\n",
              "      <td>0.5</td>\n",
              "      <td>0.5</td>\n",
              "      <td>...</td>\n",
              "      <td>0</td>\n",
              "      <td>134</td>\n",
              "      <td>91</td>\n",
              "      <td>2.0</td>\n",
              "      <td>4.0</td>\n",
              "      <td>2.333333</td>\n",
              "      <td>0.0</td>\n",
              "      <td>4997</td>\n",
              "      <td>0.750447</td>\n",
              "      <td>0</td>\n",
              "    </tr>\n",
              "    <tr>\n",
              "      <th>4997</th>\n",
              "      <td>1</td>\n",
              "      <td>63</td>\n",
              "      <td>1.0</td>\n",
              "      <td>28.0</td>\n",
              "      <td>23.8</td>\n",
              "      <td>61.3</td>\n",
              "      <td>2</td>\n",
              "      <td>0.0</td>\n",
              "      <td>6.0</td>\n",
              "      <td>4.0</td>\n",
              "      <td>...</td>\n",
              "      <td>1</td>\n",
              "      <td>142</td>\n",
              "      <td>85</td>\n",
              "      <td>2.0</td>\n",
              "      <td>2.0</td>\n",
              "      <td>4.000000</td>\n",
              "      <td>0.0</td>\n",
              "      <td>4998</td>\n",
              "      <td>0.730383</td>\n",
              "      <td>0</td>\n",
              "    </tr>\n",
              "    <tr>\n",
              "      <th>4998</th>\n",
              "      <td>1</td>\n",
              "      <td>62</td>\n",
              "      <td>1.0</td>\n",
              "      <td>44.4</td>\n",
              "      <td>38.2</td>\n",
              "      <td>47.8</td>\n",
              "      <td>3</td>\n",
              "      <td>1.0</td>\n",
              "      <td>5.0</td>\n",
              "      <td>0.5</td>\n",
              "      <td>...</td>\n",
              "      <td>0</td>\n",
              "      <td>168</td>\n",
              "      <td>89</td>\n",
              "      <td>2.0</td>\n",
              "      <td>4.0</td>\n",
              "      <td>4.333333</td>\n",
              "      <td>0.0</td>\n",
              "      <td>4999</td>\n",
              "      <td>0.600544</td>\n",
              "      <td>1</td>\n",
              "    </tr>\n",
              "    <tr>\n",
              "      <th>4999</th>\n",
              "      <td>1</td>\n",
              "      <td>67</td>\n",
              "      <td>1.0</td>\n",
              "      <td>41.4</td>\n",
              "      <td>30.0</td>\n",
              "      <td>42.4</td>\n",
              "      <td>1</td>\n",
              "      <td>2.0</td>\n",
              "      <td>5.0</td>\n",
              "      <td>5.0</td>\n",
              "      <td>...</td>\n",
              "      <td>0</td>\n",
              "      <td>149</td>\n",
              "      <td>84</td>\n",
              "      <td>2.0</td>\n",
              "      <td>4.0</td>\n",
              "      <td>5.666667</td>\n",
              "      <td>1.0</td>\n",
              "      <td>5000</td>\n",
              "      <td>0.501944</td>\n",
              "      <td>2</td>\n",
              "    </tr>\n",
              "  </tbody>\n",
              "</table>\n",
              "<p>5000 rows × 52 columns</p>\n",
              "</div>\n",
              "      <button class=\"colab-df-convert\" onclick=\"convertToInteractive('df-720942a4-d6c9-4ee8-9a7f-03830216c1a3')\"\n",
              "              title=\"Convert this dataframe to an interactive table.\"\n",
              "              style=\"display:none;\">\n",
              "        \n",
              "  <svg xmlns=\"http://www.w3.org/2000/svg\" height=\"24px\"viewBox=\"0 0 24 24\"\n",
              "       width=\"24px\">\n",
              "    <path d=\"M0 0h24v24H0V0z\" fill=\"none\"/>\n",
              "    <path d=\"M18.56 5.44l.94 2.06.94-2.06 2.06-.94-2.06-.94-.94-2.06-.94 2.06-2.06.94zm-11 1L8.5 8.5l.94-2.06 2.06-.94-2.06-.94L8.5 2.5l-.94 2.06-2.06.94zm10 10l.94 2.06.94-2.06 2.06-.94-2.06-.94-.94-2.06-.94 2.06-2.06.94z\"/><path d=\"M17.41 7.96l-1.37-1.37c-.4-.4-.92-.59-1.43-.59-.52 0-1.04.2-1.43.59L10.3 9.45l-7.72 7.72c-.78.78-.78 2.05 0 2.83L4 21.41c.39.39.9.59 1.41.59.51 0 1.02-.2 1.41-.59l7.78-7.78 2.81-2.81c.8-.78.8-2.07 0-2.86zM5.41 20L4 18.59l7.72-7.72 1.47 1.35L5.41 20z\"/>\n",
              "  </svg>\n",
              "      </button>\n",
              "      \n",
              "  <style>\n",
              "    .colab-df-container {\n",
              "      display:flex;\n",
              "      flex-wrap:wrap;\n",
              "      gap: 12px;\n",
              "    }\n",
              "\n",
              "    .colab-df-convert {\n",
              "      background-color: #E8F0FE;\n",
              "      border: none;\n",
              "      border-radius: 50%;\n",
              "      cursor: pointer;\n",
              "      display: none;\n",
              "      fill: #1967D2;\n",
              "      height: 32px;\n",
              "      padding: 0 0 0 0;\n",
              "      width: 32px;\n",
              "    }\n",
              "\n",
              "    .colab-df-convert:hover {\n",
              "      background-color: #E2EBFA;\n",
              "      box-shadow: 0px 1px 2px rgba(60, 64, 67, 0.3), 0px 1px 3px 1px rgba(60, 64, 67, 0.15);\n",
              "      fill: #174EA6;\n",
              "    }\n",
              "\n",
              "    [theme=dark] .colab-df-convert {\n",
              "      background-color: #3B4455;\n",
              "      fill: #D2E3FC;\n",
              "    }\n",
              "\n",
              "    [theme=dark] .colab-df-convert:hover {\n",
              "      background-color: #434B5C;\n",
              "      box-shadow: 0px 1px 3px 1px rgba(0, 0, 0, 0.15);\n",
              "      filter: drop-shadow(0px 1px 2px rgba(0, 0, 0, 0.3));\n",
              "      fill: #FFFFFF;\n",
              "    }\n",
              "  </style>\n",
              "\n",
              "      <script>\n",
              "        const buttonEl =\n",
              "          document.querySelector('#df-720942a4-d6c9-4ee8-9a7f-03830216c1a3 button.colab-df-convert');\n",
              "        buttonEl.style.display =\n",
              "          google.colab.kernel.accessAllowed ? 'block' : 'none';\n",
              "\n",
              "        async function convertToInteractive(key) {\n",
              "          const element = document.querySelector('#df-720942a4-d6c9-4ee8-9a7f-03830216c1a3');\n",
              "          const dataTable =\n",
              "            await google.colab.kernel.invokeFunction('convertToInteractive',\n",
              "                                                     [key], {});\n",
              "          if (!dataTable) return;\n",
              "\n",
              "          const docLinkHtml = 'Like what you see? Visit the ' +\n",
              "            '<a target=\"_blank\" href=https://colab.research.google.com/notebooks/data_table.ipynb>data table notebook</a>'\n",
              "            + ' to learn more about interactive tables.';\n",
              "          element.innerHTML = '';\n",
              "          dataTable['output_type'] = 'display_data';\n",
              "          await google.colab.output.renderOutput(dataTable, element);\n",
              "          const docLink = document.createElement('div');\n",
              "          docLink.innerHTML = docLinkHtml;\n",
              "          element.appendChild(docLink);\n",
              "        }\n",
              "      </script>\n",
              "    </div>\n",
              "  </div>\n",
              "  "
            ],
            "text/plain": [
              "      CHRONO_4_CAT  AGE  RESIDENCE  BODY_FAT  WHOLE_BODY_FAT  \\\n",
              "0                3   43        1.0      36.8            26.1   \n",
              "1                3   46        1.0      43.5            51.7   \n",
              "2                2   47        1.0      31.8            18.3   \n",
              "3                2   63        2.0      37.2            27.0   \n",
              "4                4   54        1.0      36.9            24.7   \n",
              "...            ...  ...        ...       ...             ...   \n",
              "4995             1   69        1.0      26.5            17.2   \n",
              "4996             4   70        1.0      35.0            39.4   \n",
              "4997             1   63        1.0      28.0            23.8   \n",
              "4998             1   62        1.0      44.4            38.2   \n",
              "4999             1   67        1.0      41.4            30.0   \n",
              "\n",
              "      WHOLE_BODY_FATFREE  SEASON_ASSESS  DRIVE  SUMMER  WINTER  ...  \\\n",
              "0                   44.8              2    2.0     3.0     0.5  ...   \n",
              "1                   67.2              1    1.0     3.0     1.0  ...   \n",
              "2                   39.2              4    1.0     1.0     0.5  ...   \n",
              "3                   45.6              4    2.0     3.0     1.0  ...   \n",
              "4                   42.3              3    1.0     0.5     0.5  ...   \n",
              "...                  ...            ...    ...     ...     ...  ...   \n",
              "4995                47.6              4    0.0     2.0     1.0  ...   \n",
              "4996                73.1              4    0.0     0.5     0.5  ...   \n",
              "4997                61.3              2    0.0     6.0     4.0  ...   \n",
              "4998                47.8              3    1.0     5.0     0.5  ...   \n",
              "4999                42.4              1    2.0     5.0     5.0  ...   \n",
              "\n",
              "      BP_MEDS_ALL  SYS_BP_AUTO  DIA_BP_AUTO  ALCOHOL_STATUS  ALCOHOL_INTAKE  \\\n",
              "0               0          119           71             2.0             3.0   \n",
              "1               1          142           92             2.0             2.0   \n",
              "2               0          177           95             2.0             1.0   \n",
              "3               1          129           78             2.0             3.0   \n",
              "4               0          119           72             2.0             2.0   \n",
              "...           ...          ...          ...             ...             ...   \n",
              "4995            0          134           86             2.0             3.0   \n",
              "4996            0          134           91             2.0             4.0   \n",
              "4997            1          142           85             2.0             2.0   \n",
              "4998            0          168           89             2.0             4.0   \n",
              "4999            0          149           84             2.0             4.0   \n",
              "\n",
              "      FRUIT_VEG  FRUITVEG_REC     N  FULL_CVD_RISK  DRIVE_HRS  \n",
              "0      1.333333           0.0     1       0.164995          2  \n",
              "1      3.000000           0.0     2       0.505950          1  \n",
              "2      1.833333           0.0     3       0.307337          1  \n",
              "3      5.000000           1.0     4       0.535705          2  \n",
              "4      4.333333           0.0     5       0.281880          1  \n",
              "...         ...           ...   ...            ...        ...  \n",
              "4995   3.333333           0.0  4996       0.569880          0  \n",
              "4996   2.333333           0.0  4997       0.750447          0  \n",
              "4997   4.000000           0.0  4998       0.730383          0  \n",
              "4998   4.333333           0.0  4999       0.600544          1  \n",
              "4999   5.666667           1.0  5000       0.501944          2  \n",
              "\n",
              "[5000 rows x 52 columns]"
            ]
          },
          "execution_count": 3,
          "metadata": {},
          "output_type": "execute_result"
        }
      ],
      "source": [
        "# cols_to_remove - choose all the colums that their meas is bigger then 0.15\n",
        "cols_to_remove = np.where(df.isna().mean() > 0.15)[0]\n",
        "df1 = df.iloc[:,np.setdiff1d(np.arange(0,df.shape[1]), cols_to_remove)]\n",
        "df1"
      ]
    },
    {
      "cell_type": "code",
      "execution_count": 4,
      "metadata": {
        "colab": {
          "base_uri": "https://localhost:8080/"
        },
        "id": "B27Ly4FgNbrK",
        "outputId": "3d6318cf-a015-4fc9-9a73-0ad1739e9a29"
      },
      "outputs": [
        {
          "data": {
            "text/plain": [
              "array([ 6,  7,  9, 33, 35, 37, 38, 50, 51, 56, 57])"
            ]
          },
          "execution_count": 4,
          "metadata": {},
          "output_type": "execute_result"
        }
      ],
      "source": [
        "cols_to_remove"
      ]
    },
    {
      "cell_type": "markdown",
      "metadata": {
        "id": "SAQYxRyvvyou"
      },
      "source": [
        "**Remove the rows that their mean is less then 15%**"
      ]
    },
    {
      "cell_type": "code",
      "execution_count": 5,
      "metadata": {
        "colab": {
          "base_uri": "https://localhost:8080/",
          "height": 423
        },
        "id": "INrRBDYfE-3N",
        "outputId": "45c08125-5481-49fc-eac8-260b20e90122"
      },
      "outputs": [
        {
          "data": {
            "text/html": [
              "\n",
              "  <div id=\"df-151c9377-f94d-4169-a8f2-46da08f08963\">\n",
              "    <div class=\"colab-df-container\">\n",
              "      <div>\n",
              "<style scoped>\n",
              "    .dataframe tbody tr th:only-of-type {\n",
              "        vertical-align: middle;\n",
              "    }\n",
              "\n",
              "    .dataframe tbody tr th {\n",
              "        vertical-align: top;\n",
              "    }\n",
              "\n",
              "    .dataframe thead th {\n",
              "        text-align: right;\n",
              "    }\n",
              "</style>\n",
              "<table border=\"1\" class=\"dataframe\">\n",
              "  <thead>\n",
              "    <tr style=\"text-align: right;\">\n",
              "      <th></th>\n",
              "      <th>CHRONO_4_CAT</th>\n",
              "      <th>AGE</th>\n",
              "      <th>RESIDENCE</th>\n",
              "      <th>BODY_FAT</th>\n",
              "      <th>WHOLE_BODY_FAT</th>\n",
              "      <th>WHOLE_BODY_FATFREE</th>\n",
              "      <th>SEASON_ASSESS</th>\n",
              "      <th>DRIVE</th>\n",
              "      <th>SUMMER</th>\n",
              "      <th>WINTER</th>\n",
              "      <th>...</th>\n",
              "      <th>BP_MEDS_ALL</th>\n",
              "      <th>SYS_BP_AUTO</th>\n",
              "      <th>DIA_BP_AUTO</th>\n",
              "      <th>ALCOHOL_STATUS</th>\n",
              "      <th>ALCOHOL_INTAKE</th>\n",
              "      <th>FRUIT_VEG</th>\n",
              "      <th>FRUITVEG_REC</th>\n",
              "      <th>N</th>\n",
              "      <th>FULL_CVD_RISK</th>\n",
              "      <th>DRIVE_HRS</th>\n",
              "    </tr>\n",
              "  </thead>\n",
              "  <tbody>\n",
              "    <tr>\n",
              "      <th>0</th>\n",
              "      <td>3</td>\n",
              "      <td>43</td>\n",
              "      <td>1.0</td>\n",
              "      <td>36.8</td>\n",
              "      <td>26.1</td>\n",
              "      <td>44.8</td>\n",
              "      <td>2</td>\n",
              "      <td>2.0</td>\n",
              "      <td>3.0</td>\n",
              "      <td>0.5</td>\n",
              "      <td>...</td>\n",
              "      <td>0</td>\n",
              "      <td>119</td>\n",
              "      <td>71</td>\n",
              "      <td>2.0</td>\n",
              "      <td>3.0</td>\n",
              "      <td>1.333333</td>\n",
              "      <td>0.0</td>\n",
              "      <td>1</td>\n",
              "      <td>0.164995</td>\n",
              "      <td>2</td>\n",
              "    </tr>\n",
              "    <tr>\n",
              "      <th>1</th>\n",
              "      <td>3</td>\n",
              "      <td>46</td>\n",
              "      <td>1.0</td>\n",
              "      <td>43.5</td>\n",
              "      <td>51.7</td>\n",
              "      <td>67.2</td>\n",
              "      <td>1</td>\n",
              "      <td>1.0</td>\n",
              "      <td>3.0</td>\n",
              "      <td>1.0</td>\n",
              "      <td>...</td>\n",
              "      <td>1</td>\n",
              "      <td>142</td>\n",
              "      <td>92</td>\n",
              "      <td>2.0</td>\n",
              "      <td>2.0</td>\n",
              "      <td>3.000000</td>\n",
              "      <td>0.0</td>\n",
              "      <td>2</td>\n",
              "      <td>0.505950</td>\n",
              "      <td>1</td>\n",
              "    </tr>\n",
              "    <tr>\n",
              "      <th>2</th>\n",
              "      <td>2</td>\n",
              "      <td>47</td>\n",
              "      <td>1.0</td>\n",
              "      <td>31.8</td>\n",
              "      <td>18.3</td>\n",
              "      <td>39.2</td>\n",
              "      <td>4</td>\n",
              "      <td>1.0</td>\n",
              "      <td>1.0</td>\n",
              "      <td>0.5</td>\n",
              "      <td>...</td>\n",
              "      <td>0</td>\n",
              "      <td>177</td>\n",
              "      <td>95</td>\n",
              "      <td>2.0</td>\n",
              "      <td>1.0</td>\n",
              "      <td>1.833333</td>\n",
              "      <td>0.0</td>\n",
              "      <td>3</td>\n",
              "      <td>0.307337</td>\n",
              "      <td>1</td>\n",
              "    </tr>\n",
              "    <tr>\n",
              "      <th>3</th>\n",
              "      <td>2</td>\n",
              "      <td>63</td>\n",
              "      <td>2.0</td>\n",
              "      <td>37.2</td>\n",
              "      <td>27.0</td>\n",
              "      <td>45.6</td>\n",
              "      <td>4</td>\n",
              "      <td>2.0</td>\n",
              "      <td>3.0</td>\n",
              "      <td>1.0</td>\n",
              "      <td>...</td>\n",
              "      <td>1</td>\n",
              "      <td>129</td>\n",
              "      <td>78</td>\n",
              "      <td>2.0</td>\n",
              "      <td>3.0</td>\n",
              "      <td>5.000000</td>\n",
              "      <td>1.0</td>\n",
              "      <td>4</td>\n",
              "      <td>0.535705</td>\n",
              "      <td>2</td>\n",
              "    </tr>\n",
              "    <tr>\n",
              "      <th>4</th>\n",
              "      <td>4</td>\n",
              "      <td>54</td>\n",
              "      <td>1.0</td>\n",
              "      <td>36.9</td>\n",
              "      <td>24.7</td>\n",
              "      <td>42.3</td>\n",
              "      <td>3</td>\n",
              "      <td>1.0</td>\n",
              "      <td>0.5</td>\n",
              "      <td>0.5</td>\n",
              "      <td>...</td>\n",
              "      <td>0</td>\n",
              "      <td>119</td>\n",
              "      <td>72</td>\n",
              "      <td>2.0</td>\n",
              "      <td>2.0</td>\n",
              "      <td>4.333333</td>\n",
              "      <td>0.0</td>\n",
              "      <td>5</td>\n",
              "      <td>0.281880</td>\n",
              "      <td>1</td>\n",
              "    </tr>\n",
              "    <tr>\n",
              "      <th>...</th>\n",
              "      <td>...</td>\n",
              "      <td>...</td>\n",
              "      <td>...</td>\n",
              "      <td>...</td>\n",
              "      <td>...</td>\n",
              "      <td>...</td>\n",
              "      <td>...</td>\n",
              "      <td>...</td>\n",
              "      <td>...</td>\n",
              "      <td>...</td>\n",
              "      <td>...</td>\n",
              "      <td>...</td>\n",
              "      <td>...</td>\n",
              "      <td>...</td>\n",
              "      <td>...</td>\n",
              "      <td>...</td>\n",
              "      <td>...</td>\n",
              "      <td>...</td>\n",
              "      <td>...</td>\n",
              "      <td>...</td>\n",
              "      <td>...</td>\n",
              "    </tr>\n",
              "    <tr>\n",
              "      <th>4995</th>\n",
              "      <td>1</td>\n",
              "      <td>69</td>\n",
              "      <td>1.0</td>\n",
              "      <td>26.5</td>\n",
              "      <td>17.2</td>\n",
              "      <td>47.6</td>\n",
              "      <td>4</td>\n",
              "      <td>0.0</td>\n",
              "      <td>2.0</td>\n",
              "      <td>1.0</td>\n",
              "      <td>...</td>\n",
              "      <td>0</td>\n",
              "      <td>134</td>\n",
              "      <td>86</td>\n",
              "      <td>2.0</td>\n",
              "      <td>3.0</td>\n",
              "      <td>3.333333</td>\n",
              "      <td>0.0</td>\n",
              "      <td>4996</td>\n",
              "      <td>0.569880</td>\n",
              "      <td>0</td>\n",
              "    </tr>\n",
              "    <tr>\n",
              "      <th>4996</th>\n",
              "      <td>4</td>\n",
              "      <td>70</td>\n",
              "      <td>1.0</td>\n",
              "      <td>35.0</td>\n",
              "      <td>39.4</td>\n",
              "      <td>73.1</td>\n",
              "      <td>4</td>\n",
              "      <td>0.0</td>\n",
              "      <td>0.5</td>\n",
              "      <td>0.5</td>\n",
              "      <td>...</td>\n",
              "      <td>0</td>\n",
              "      <td>134</td>\n",
              "      <td>91</td>\n",
              "      <td>2.0</td>\n",
              "      <td>4.0</td>\n",
              "      <td>2.333333</td>\n",
              "      <td>0.0</td>\n",
              "      <td>4997</td>\n",
              "      <td>0.750447</td>\n",
              "      <td>0</td>\n",
              "    </tr>\n",
              "    <tr>\n",
              "      <th>4997</th>\n",
              "      <td>1</td>\n",
              "      <td>63</td>\n",
              "      <td>1.0</td>\n",
              "      <td>28.0</td>\n",
              "      <td>23.8</td>\n",
              "      <td>61.3</td>\n",
              "      <td>2</td>\n",
              "      <td>0.0</td>\n",
              "      <td>6.0</td>\n",
              "      <td>4.0</td>\n",
              "      <td>...</td>\n",
              "      <td>1</td>\n",
              "      <td>142</td>\n",
              "      <td>85</td>\n",
              "      <td>2.0</td>\n",
              "      <td>2.0</td>\n",
              "      <td>4.000000</td>\n",
              "      <td>0.0</td>\n",
              "      <td>4998</td>\n",
              "      <td>0.730383</td>\n",
              "      <td>0</td>\n",
              "    </tr>\n",
              "    <tr>\n",
              "      <th>4998</th>\n",
              "      <td>1</td>\n",
              "      <td>62</td>\n",
              "      <td>1.0</td>\n",
              "      <td>44.4</td>\n",
              "      <td>38.2</td>\n",
              "      <td>47.8</td>\n",
              "      <td>3</td>\n",
              "      <td>1.0</td>\n",
              "      <td>5.0</td>\n",
              "      <td>0.5</td>\n",
              "      <td>...</td>\n",
              "      <td>0</td>\n",
              "      <td>168</td>\n",
              "      <td>89</td>\n",
              "      <td>2.0</td>\n",
              "      <td>4.0</td>\n",
              "      <td>4.333333</td>\n",
              "      <td>0.0</td>\n",
              "      <td>4999</td>\n",
              "      <td>0.600544</td>\n",
              "      <td>1</td>\n",
              "    </tr>\n",
              "    <tr>\n",
              "      <th>4999</th>\n",
              "      <td>1</td>\n",
              "      <td>67</td>\n",
              "      <td>1.0</td>\n",
              "      <td>41.4</td>\n",
              "      <td>30.0</td>\n",
              "      <td>42.4</td>\n",
              "      <td>1</td>\n",
              "      <td>2.0</td>\n",
              "      <td>5.0</td>\n",
              "      <td>5.0</td>\n",
              "      <td>...</td>\n",
              "      <td>0</td>\n",
              "      <td>149</td>\n",
              "      <td>84</td>\n",
              "      <td>2.0</td>\n",
              "      <td>4.0</td>\n",
              "      <td>5.666667</td>\n",
              "      <td>1.0</td>\n",
              "      <td>5000</td>\n",
              "      <td>0.501944</td>\n",
              "      <td>2</td>\n",
              "    </tr>\n",
              "  </tbody>\n",
              "</table>\n",
              "<p>4983 rows × 52 columns</p>\n",
              "</div>\n",
              "      <button class=\"colab-df-convert\" onclick=\"convertToInteractive('df-151c9377-f94d-4169-a8f2-46da08f08963')\"\n",
              "              title=\"Convert this dataframe to an interactive table.\"\n",
              "              style=\"display:none;\">\n",
              "        \n",
              "  <svg xmlns=\"http://www.w3.org/2000/svg\" height=\"24px\"viewBox=\"0 0 24 24\"\n",
              "       width=\"24px\">\n",
              "    <path d=\"M0 0h24v24H0V0z\" fill=\"none\"/>\n",
              "    <path d=\"M18.56 5.44l.94 2.06.94-2.06 2.06-.94-2.06-.94-.94-2.06-.94 2.06-2.06.94zm-11 1L8.5 8.5l.94-2.06 2.06-.94-2.06-.94L8.5 2.5l-.94 2.06-2.06.94zm10 10l.94 2.06.94-2.06 2.06-.94-2.06-.94-.94-2.06-.94 2.06-2.06.94z\"/><path d=\"M17.41 7.96l-1.37-1.37c-.4-.4-.92-.59-1.43-.59-.52 0-1.04.2-1.43.59L10.3 9.45l-7.72 7.72c-.78.78-.78 2.05 0 2.83L4 21.41c.39.39.9.59 1.41.59.51 0 1.02-.2 1.41-.59l7.78-7.78 2.81-2.81c.8-.78.8-2.07 0-2.86zM5.41 20L4 18.59l7.72-7.72 1.47 1.35L5.41 20z\"/>\n",
              "  </svg>\n",
              "      </button>\n",
              "      \n",
              "  <style>\n",
              "    .colab-df-container {\n",
              "      display:flex;\n",
              "      flex-wrap:wrap;\n",
              "      gap: 12px;\n",
              "    }\n",
              "\n",
              "    .colab-df-convert {\n",
              "      background-color: #E8F0FE;\n",
              "      border: none;\n",
              "      border-radius: 50%;\n",
              "      cursor: pointer;\n",
              "      display: none;\n",
              "      fill: #1967D2;\n",
              "      height: 32px;\n",
              "      padding: 0 0 0 0;\n",
              "      width: 32px;\n",
              "    }\n",
              "\n",
              "    .colab-df-convert:hover {\n",
              "      background-color: #E2EBFA;\n",
              "      box-shadow: 0px 1px 2px rgba(60, 64, 67, 0.3), 0px 1px 3px 1px rgba(60, 64, 67, 0.15);\n",
              "      fill: #174EA6;\n",
              "    }\n",
              "\n",
              "    [theme=dark] .colab-df-convert {\n",
              "      background-color: #3B4455;\n",
              "      fill: #D2E3FC;\n",
              "    }\n",
              "\n",
              "    [theme=dark] .colab-df-convert:hover {\n",
              "      background-color: #434B5C;\n",
              "      box-shadow: 0px 1px 3px 1px rgba(0, 0, 0, 0.15);\n",
              "      filter: drop-shadow(0px 1px 2px rgba(0, 0, 0, 0.3));\n",
              "      fill: #FFFFFF;\n",
              "    }\n",
              "  </style>\n",
              "\n",
              "      <script>\n",
              "        const buttonEl =\n",
              "          document.querySelector('#df-151c9377-f94d-4169-a8f2-46da08f08963 button.colab-df-convert');\n",
              "        buttonEl.style.display =\n",
              "          google.colab.kernel.accessAllowed ? 'block' : 'none';\n",
              "\n",
              "        async function convertToInteractive(key) {\n",
              "          const element = document.querySelector('#df-151c9377-f94d-4169-a8f2-46da08f08963');\n",
              "          const dataTable =\n",
              "            await google.colab.kernel.invokeFunction('convertToInteractive',\n",
              "                                                     [key], {});\n",
              "          if (!dataTable) return;\n",
              "\n",
              "          const docLinkHtml = 'Like what you see? Visit the ' +\n",
              "            '<a target=\"_blank\" href=https://colab.research.google.com/notebooks/data_table.ipynb>data table notebook</a>'\n",
              "            + ' to learn more about interactive tables.';\n",
              "          element.innerHTML = '';\n",
              "          dataTable['output_type'] = 'display_data';\n",
              "          await google.colab.output.renderOutput(dataTable, element);\n",
              "          const docLink = document.createElement('div');\n",
              "          docLink.innerHTML = docLinkHtml;\n",
              "          element.appendChild(docLink);\n",
              "        }\n",
              "      </script>\n",
              "    </div>\n",
              "  </div>\n",
              "  "
            ],
            "text/plain": [
              "      CHRONO_4_CAT  AGE  RESIDENCE  BODY_FAT  WHOLE_BODY_FAT  \\\n",
              "0                3   43        1.0      36.8            26.1   \n",
              "1                3   46        1.0      43.5            51.7   \n",
              "2                2   47        1.0      31.8            18.3   \n",
              "3                2   63        2.0      37.2            27.0   \n",
              "4                4   54        1.0      36.9            24.7   \n",
              "...            ...  ...        ...       ...             ...   \n",
              "4995             1   69        1.0      26.5            17.2   \n",
              "4996             4   70        1.0      35.0            39.4   \n",
              "4997             1   63        1.0      28.0            23.8   \n",
              "4998             1   62        1.0      44.4            38.2   \n",
              "4999             1   67        1.0      41.4            30.0   \n",
              "\n",
              "      WHOLE_BODY_FATFREE  SEASON_ASSESS  DRIVE  SUMMER  WINTER  ...  \\\n",
              "0                   44.8              2    2.0     3.0     0.5  ...   \n",
              "1                   67.2              1    1.0     3.0     1.0  ...   \n",
              "2                   39.2              4    1.0     1.0     0.5  ...   \n",
              "3                   45.6              4    2.0     3.0     1.0  ...   \n",
              "4                   42.3              3    1.0     0.5     0.5  ...   \n",
              "...                  ...            ...    ...     ...     ...  ...   \n",
              "4995                47.6              4    0.0     2.0     1.0  ...   \n",
              "4996                73.1              4    0.0     0.5     0.5  ...   \n",
              "4997                61.3              2    0.0     6.0     4.0  ...   \n",
              "4998                47.8              3    1.0     5.0     0.5  ...   \n",
              "4999                42.4              1    2.0     5.0     5.0  ...   \n",
              "\n",
              "      BP_MEDS_ALL  SYS_BP_AUTO  DIA_BP_AUTO  ALCOHOL_STATUS  ALCOHOL_INTAKE  \\\n",
              "0               0          119           71             2.0             3.0   \n",
              "1               1          142           92             2.0             2.0   \n",
              "2               0          177           95             2.0             1.0   \n",
              "3               1          129           78             2.0             3.0   \n",
              "4               0          119           72             2.0             2.0   \n",
              "...           ...          ...          ...             ...             ...   \n",
              "4995            0          134           86             2.0             3.0   \n",
              "4996            0          134           91             2.0             4.0   \n",
              "4997            1          142           85             2.0             2.0   \n",
              "4998            0          168           89             2.0             4.0   \n",
              "4999            0          149           84             2.0             4.0   \n",
              "\n",
              "      FRUIT_VEG  FRUITVEG_REC     N  FULL_CVD_RISK  DRIVE_HRS  \n",
              "0      1.333333           0.0     1       0.164995          2  \n",
              "1      3.000000           0.0     2       0.505950          1  \n",
              "2      1.833333           0.0     3       0.307337          1  \n",
              "3      5.000000           1.0     4       0.535705          2  \n",
              "4      4.333333           0.0     5       0.281880          1  \n",
              "...         ...           ...   ...            ...        ...  \n",
              "4995   3.333333           0.0  4996       0.569880          0  \n",
              "4996   2.333333           0.0  4997       0.750447          0  \n",
              "4997   4.000000           0.0  4998       0.730383          0  \n",
              "4998   4.333333           0.0  4999       0.600544          1  \n",
              "4999   5.666667           1.0  5000       0.501944          2  \n",
              "\n",
              "[4983 rows x 52 columns]"
            ]
          },
          "execution_count": 5,
          "metadata": {},
          "output_type": "execute_result"
        }
      ],
      "source": [
        "rows_to_remove = np.where(df1.isna().mean(axis = 1) > 0.15)[0]\n",
        "df2 = df1.iloc[np.setdiff1d(np.arange(0,df1.shape[0]), rows_to_remove), :]\n",
        "df2"
      ]
    },
    {
      "cell_type": "markdown",
      "metadata": {
        "id": "TuF5lJuwwE5K"
      },
      "source": [
        "**Remove the rows that contains NULL values**"
      ]
    },
    {
      "cell_type": "code",
      "execution_count": 6,
      "metadata": {
        "id": "x_bXEMLgFBJ2"
      },
      "outputs": [],
      "source": [
        "df2 = df2.dropna()"
      ]
    },
    {
      "cell_type": "markdown",
      "metadata": {
        "id": "UonIEbt-wwc5"
      },
      "source": [
        "**The features chosen for the rest of the process**"
      ]
    },
    {
      "cell_type": "code",
      "execution_count": 7,
      "metadata": {
        "id": "xd8IFi7qFDYw"
      },
      "outputs": [],
      "source": [
        "cols = [ 'AGE','BODY_FAT', 'WHOLE_BODY_FATFREE', 'DRIVE', \n",
        "        'TV_HRS', 'COMP_HRS', 'BMI','SEX', 'SLEEP', \n",
        "        'BMI_CAT','SMOKE', 'WALK_DAYS', 'DUR_WALK', \n",
        "        'MOD_DAYS', 'VIG_DAYS', 'TOTAL_WALK', 'DRIVE_HRS',\n",
        "        'DIA_BP_AUTO']\n"
      ]
    },
    {
      "cell_type": "markdown",
      "metadata": {
        "id": "tSdzSvb7xDX4"
      },
      "source": [
        "**A scale of the risk score**"
      ]
    },
    {
      "cell_type": "code",
      "execution_count": 8,
      "metadata": {
        "id": "wtxnjiPxF1KV"
      },
      "outputs": [],
      "source": [
        "X = df2[cols]\n",
        "y = pd.cut(df2['FULL_CVD_RISK'], bins = [0, 0.333, 0.666, 1], labels = ['Low', 'Medium', 'High'])"
      ]
    },
    {
      "cell_type": "code",
      "execution_count": 9,
      "metadata": {
        "colab": {
          "base_uri": "https://localhost:8080/"
        },
        "id": "spSSbP24F3zE",
        "outputId": "66f7fd3c-b55a-4022-c476-35469c772312"
      },
      "outputs": [
        {
          "data": {
            "text/plain": [
              "(3560, 18)"
            ]
          },
          "execution_count": 9,
          "metadata": {},
          "output_type": "execute_result"
        }
      ],
      "source": [
        "X.shape"
      ]
    },
    {
      "cell_type": "code",
      "execution_count": 10,
      "metadata": {
        "colab": {
          "base_uri": "https://localhost:8080/"
        },
        "id": "-zds8Aip3Ezo",
        "outputId": "de7d2cc5-5708-44bf-8b78-813e46a4d746"
      },
      "outputs": [
        {
          "data": {
            "text/plain": [
              "938"
            ]
          },
          "execution_count": 10,
          "metadata": {},
          "output_type": "execute_result"
        }
      ],
      "source": [
        "label_Low = np.where(y == 'Low')\n",
        "len(label_Low[0])"
      ]
    },
    {
      "cell_type": "code",
      "execution_count": 11,
      "metadata": {
        "colab": {
          "base_uri": "https://localhost:8080/"
        },
        "id": "CcgtAh092_uN",
        "outputId": "a7b33ea8-8aa1-425b-da6f-89fe2aae3ef7"
      },
      "outputs": [
        {
          "data": {
            "text/plain": [
              "1956"
            ]
          },
          "execution_count": 11,
          "metadata": {},
          "output_type": "execute_result"
        }
      ],
      "source": [
        "label_Medium = np.where(y == 'Medium')\n",
        "len(label_Medium[0])"
      ]
    },
    {
      "cell_type": "code",
      "execution_count": 12,
      "metadata": {
        "colab": {
          "base_uri": "https://localhost:8080/"
        },
        "id": "AkMUzG2xlP7P",
        "outputId": "6d806515-ade6-4a4d-e8ae-f5bbbc80f902"
      },
      "outputs": [
        {
          "data": {
            "text/plain": [
              "666"
            ]
          },
          "execution_count": 12,
          "metadata": {},
          "output_type": "execute_result"
        }
      ],
      "source": [
        "label_High = np.where(y == 'High')\n",
        "len(label_High[0])"
      ]
    },
    {
      "cell_type": "markdown",
      "metadata": {
        "id": "CJBFvbNoygAe"
      },
      "source": [
        "# **Evaluation and Analysis**"
      ]
    },
    {
      "cell_type": "code",
      "execution_count": 13,
      "metadata": {
        "id": "btwj_gEtF5hd"
      },
      "outputs": [],
      "source": [
        "from sklearn.preprocessing import StandardScaler\n",
        "from sklearn.metrics import confusion_matrix\n",
        "from sklearn.model_selection import GridSearchCV, train_test_split, RandomizedSearchCV\n",
        "\n",
        "from sklearn.ensemble import RandomForestClassifier\n",
        "from sklearn.linear_model import LogisticRegression\n",
        "from sklearn.neighbors import KNeighborsClassifier"
      ]
    },
    {
      "cell_type": "markdown",
      "metadata": {
        "id": "bqmGd9boyxBy"
      },
      "source": [
        "**splitting to train (80%) and test (20%) sets**\n",
        "\n",
        "*   X - is the values\n",
        "*   y - is the labels\n",
        "\n",
        "\n",
        "\n",
        "\n",
        "\n",
        "\n",
        "\n"
      ]
    },
    {
      "cell_type": "code",
      "execution_count": 14,
      "metadata": {
        "id": "AXa9gmvGF8KW"
      },
      "outputs": [],
      "source": [
        "X_train, X_test, y_train, y_test = train_test_split(X, y, test_size=0.2, random_state=1)"
      ]
    },
    {
      "cell_type": "markdown",
      "metadata": {
        "id": "FVwYBMnvzQVe"
      },
      "source": [
        "**Standardize features by removing the mean and scaling to unit variance.**"
      ]
    },
    {
      "cell_type": "code",
      "execution_count": 15,
      "metadata": {
        "colab": {
          "base_uri": "https://localhost:8080/"
        },
        "id": "CtIOl44FF93q",
        "outputId": "1498df30-df8a-4463-af39-98972e1a2b02"
      },
      "outputs": [
        {
          "data": {
            "text/plain": [
              "51264"
            ]
          },
          "execution_count": 15,
          "metadata": {},
          "output_type": "execute_result"
        }
      ],
      "source": [
        "scaler = StandardScaler().fit(X_train)\n",
        "X_train_scaled = scaler.transform(X_train)\n",
        "X_test_scaled = scaler.transform(X_test)\n",
        "\n",
        "X_train_scaled.size\n"
      ]
    },
    {
      "cell_type": "code",
      "execution_count": 16,
      "metadata": {
        "colab": {
          "base_uri": "https://localhost:8080/"
        },
        "id": "dfoK6V47Uxp5",
        "outputId": "fa08ffd7-1228-4f34-9c28-74f1e8d4809c"
      },
      "outputs": [
        {
          "data": {
            "text/plain": [
              "130        Low\n",
              "4571    Medium\n",
              "2570    Medium\n",
              "682     Medium\n",
              "1423    Medium\n",
              "         ...  \n",
              "1728       Low\n",
              "3617       Low\n",
              "1840      High\n",
              "1903      High\n",
              "1458    Medium\n",
              "Name: FULL_CVD_RISK, Length: 712, dtype: category\n",
              "Categories (3, object): ['Low' < 'Medium' < 'High']"
            ]
          },
          "execution_count": 16,
          "metadata": {},
          "output_type": "execute_result"
        }
      ],
      "source": [
        "y_test"
      ]
    },
    {
      "cell_type": "code",
      "execution_count": 17,
      "metadata": {
        "colab": {
          "base_uri": "https://localhost:8080/"
        },
        "id": "3xtex8nJUm36",
        "outputId": "7ab11259-85f8-40ac-dd09-9d4f44a80a5b"
      },
      "outputs": [
        {
          "data": {
            "text/plain": [
              "array([[ 0.5434426 ,  0.32428296, -1.32968765, ...,  3.59046117,\n",
              "        -0.66119575, -1.1581307 ],\n",
              "       [-0.08255826, -0.69335826,  0.20422617, ..., -0.49233182,\n",
              "         0.14216837,  0.16799397],\n",
              "       [-1.08415963, -1.54139262,  0.15281006, ..., -0.75744825,\n",
              "         0.14216837, -0.77923794],\n",
              "       ...,\n",
              "       [ 1.04424329, -1.88060636,  0.22136487, ..., -0.30675032,\n",
              "         0.14216837,  2.25190418],\n",
              "       [-0.3329586 ,  0.05775788,  1.61816907, ...,  0.09092432,\n",
              "         0.94553248,  1.49411865],\n",
              "       [ 0.66864277,  2.11726988, -0.74697178, ...,  1.36348318,\n",
              "        -0.66119575, -1.34757709]])"
            ]
          },
          "execution_count": 17,
          "metadata": {},
          "output_type": "execute_result"
        }
      ],
      "source": [
        "X_test_scaled"
      ]
    },
    {
      "cell_type": "markdown",
      "metadata": {
        "id": "N0Rs3iWBzbpj"
      },
      "source": [
        "# **SVM**"
      ]
    },
    {
      "cell_type": "markdown",
      "metadata": {
        "id": "geSqQHNM6ENI"
      },
      "source": [
        "## **Create the grid**"
      ]
    },
    {
      "cell_type": "code",
      "execution_count": 18,
      "metadata": {
        "colab": {
          "base_uri": "https://localhost:8080/"
        },
        "id": "dShNcnJM_L-y",
        "outputId": "ffd7a5c9-9917-43d8-cf65-a7b334789fa7"
      },
      "outputs": [
        {
          "name": "stderr",
          "output_type": "stream",
          "text": [
            "<ipython-input-18-bdc142a2cac3>:6: DeprecationWarning: `np.float` is a deprecated alias for the builtin `float`. To silence this warning, use `float` by itself. Doing this will not modify any behavior and is safe. If you specifically wanted the numpy scalar type, use `np.float64` here.\n",
            "Deprecated in NumPy 1.20; for more details and guidance: https://numpy.org/devdocs/release/1.20.0-notes.html#deprecations\n",
            "  'gamma': 10**np.arange(-5, 0, 1, dtype=np.float)}\n"
          ]
        }
      ],
      "source": [
        "from sklearn.svm import SVC\n",
        "svm = SVC(probability=True, max_iter=1000, random_state=1) # We must restrict the number of iterations\n",
        "parameters = {'C': [1, 10, 50, 100, 150, 200, 300],\n",
        "              'kernel': ['linear', 'poly', 'rbf'],\n",
        "              'degree': np.arange(2,6,1),\n",
        "              'gamma': 10**np.arange(-5, 0, 1, dtype=np.float)}"
      ]
    },
    {
      "cell_type": "code",
      "execution_count": 19,
      "metadata": {
        "colab": {
          "base_uri": "https://localhost:8080/"
        },
        "id": "RBpsn5jJf5eX",
        "outputId": "945901a9-70e6-40a6-a626-ab8267408835"
      },
      "outputs": [
        {
          "data": {
            "text/plain": [
              "{'C': [1, 10, 50, 100, 150, 200, 300],\n",
              " 'kernel': ['linear', 'poly', 'rbf'],\n",
              " 'degree': array([2, 3, 4, 5]),\n",
              " 'gamma': array([1.e-05, 1.e-04, 1.e-03, 1.e-02, 1.e-01])}"
            ]
          },
          "execution_count": 19,
          "metadata": {},
          "output_type": "execute_result"
        }
      ],
      "source": [
        "parameters"
      ]
    },
    {
      "cell_type": "markdown",
      "metadata": {
        "id": "HT0DA2cm11Sq"
      },
      "source": [
        "## **Build The SVM model**"
      ]
    },
    {
      "cell_type": "markdown",
      "metadata": {
        "id": "lUVw-0591py2"
      },
      "source": [
        "GridSearchCV - Exhaustive search over specified parameter values for an estimator.\n"
      ]
    },
    {
      "cell_type": "code",
      "execution_count": 20,
      "metadata": {
        "colab": {
          "base_uri": "https://localhost:8080/"
        },
        "id": "VVdptzqF_PI7",
        "outputId": "6115eeb1-035f-44db-d8b6-150a51dac4c9"
      },
      "outputs": [
        {
          "name": "stdout",
          "output_type": "stream",
          "text": [
            "Fitting 10 folds for each of 420 candidates, totalling 4200 fits\n"
          ]
        },
        {
          "name": "stderr",
          "output_type": "stream",
          "text": [
            "/usr/local/lib/python3.8/dist-packages/sklearn/svm/_base.py:284: ConvergenceWarning: Solver terminated early (max_iter=1000).  Consider pre-processing your data with StandardScaler or MinMaxScaler.\n",
            "  warnings.warn(\n"
          ]
        }
      ],
      "source": [
        "svm_cv = GridSearchCV(svm, param_grid=parameters, cv=10, \n",
        "                             n_jobs=-1, verbose=10).fit(X_train_scaled, y_train)"
      ]
    },
    {
      "cell_type": "code",
      "execution_count": 21,
      "metadata": {
        "colab": {
          "base_uri": "https://localhost:8080/"
        },
        "id": "EfwnzcIO_WMH",
        "outputId": "e9f46aef-c178-4bda-f5bd-71d0334f6cbd"
      },
      "outputs": [
        {
          "data": {
            "text/plain": [
              "{'C': 150, 'degree': 2, 'gamma': 0.001, 'kernel': 'rbf'}"
            ]
          },
          "execution_count": 21,
          "metadata": {},
          "output_type": "execute_result"
        }
      ],
      "source": [
        "svm_cv.best_params_\n",
        "# Note that degree is meaningless in 'rbf' kernel "
      ]
    },
    {
      "cell_type": "code",
      "execution_count": 22,
      "metadata": {
        "colab": {
          "base_uri": "https://localhost:8080/"
        },
        "id": "qgpjAEaYO2SL",
        "outputId": "6c86dc7a-6a7f-4369-874b-b0e53b8307b8"
      },
      "outputs": [
        {
          "data": {
            "text/plain": [
              "0.8219743019520633"
            ]
          },
          "execution_count": 22,
          "metadata": {},
          "output_type": "execute_result"
        }
      ],
      "source": [
        "svm_cv.best_score_"
      ]
    },
    {
      "cell_type": "code",
      "execution_count": 23,
      "metadata": {
        "colab": {
          "base_uri": "https://localhost:8080/"
        },
        "id": "1DlG4TGlRfjZ",
        "outputId": "58d2e76c-81b5-4593-9190-817c021fac5b"
      },
      "outputs": [
        {
          "data": {
            "text/plain": [
              "18"
            ]
          },
          "execution_count": 23,
          "metadata": {},
          "output_type": "execute_result"
        }
      ],
      "source": [
        "svm_cv.n_features_in_"
      ]
    },
    {
      "cell_type": "markdown",
      "metadata": {
        "id": "L_PAkBy419u4"
      },
      "source": [
        "**Save the model**"
      ]
    },
    {
      "cell_type": "code",
      "execution_count": 24,
      "metadata": {
        "id": "19xDY4u8GKGD"
      },
      "outputs": [],
      "source": [
        "# Save the Modle to file in the current working directory\n",
        "import pickle\n",
        "#NEED TO CHANGE THE FILE NAME EACH TIME WHEN DUMP\n",
        "Pkl_Filename = \"y_test.csv\"  \n",
        "\n",
        "with open(Pkl_Filename, 'wb') as file:  \n",
        "    pickle.dump(y_test, file)"
      ]
    },
    {
      "cell_type": "markdown",
      "metadata": {
        "id": "gj4OHYmD2PYL"
      },
      "source": [
        "**Prediction**"
      ]
    },
    {
      "cell_type": "code",
      "execution_count": 25,
      "metadata": {
        "colab": {
          "base_uri": "https://localhost:8080/",
          "height": 36
        },
        "id": "FtcNSLahdBw1",
        "outputId": "54bf5fc2-6e20-42d6-91ee-83d998146947"
      },
      "outputs": [
        {
          "data": {
            "application/vnd.google.colaboratory.intrinsic+json": {
              "type": "string"
            },
            "text/plain": [
              "'Medium'"
            ]
          },
          "execution_count": 25,
          "metadata": {},
          "output_type": "execute_result"
        }
      ],
      "source": [
        "res= svm_cv.best_estimator_.predict(X_test_scaled)\n",
        "res[0]\n"
      ]
    },
    {
      "cell_type": "code",
      "execution_count": 26,
      "metadata": {
        "colab": {
          "base_uri": "https://localhost:8080/",
          "height": 36
        },
        "id": "r35O88lQDgIi",
        "outputId": "519d80fc-39ba-4805-8501-dff2c86b8c31"
      },
      "outputs": [
        {
          "data": {
            "application/vnd.google.colaboratory.intrinsic+json": {
              "type": "string"
            },
            "text/plain": [
              "'Low'"
            ]
          },
          "execution_count": 26,
          "metadata": {},
          "output_type": "execute_result"
        }
      ],
      "source": [
        "test = pd.Series(y_test).array\n",
        "test[0]"
      ]
    },
    {
      "cell_type": "code",
      "execution_count": 27,
      "metadata": {
        "colab": {
          "base_uri": "https://localhost:8080/"
        },
        "id": "A4VisMaIdLXh",
        "outputId": "2fb428d4-9001-4630-be5a-afb18c3a8a94"
      },
      "outputs": [
        {
          "data": {
            "text/plain": [
              "0.8286516853932584"
            ]
          },
          "execution_count": 27,
          "metadata": {},
          "output_type": "execute_result"
        }
      ],
      "source": [
        "np.mean(svm_cv.best_estimator_.predict(X_test_scaled) == y_test)"
      ]
    },
    {
      "cell_type": "markdown",
      "metadata": {
        "id": "dFfm9AVg2sZF"
      },
      "source": [
        "# **Logitic  Regression**"
      ]
    },
    {
      "cell_type": "markdown",
      "metadata": {
        "id": "Tnjj108L6I7M"
      },
      "source": [
        "## **Create the grid**"
      ]
    },
    {
      "cell_type": "code",
      "execution_count": 28,
      "metadata": {
        "colab": {
          "base_uri": "https://localhost:8080/"
        },
        "id": "J-VwRLDJ3Apw",
        "outputId": "1dfe83f2-0cdc-4428-ade0-62fbccb197cd"
      },
      "outputs": [
        {
          "data": {
            "text/plain": [
              "{'penalty': ['none', 'l2', 'l1'],\n",
              " 'C': array([1.000000e-02, 4.176250e+00, 8.342500e+00, 1.250875e+01,\n",
              "        1.667500e+01, 2.084125e+01, 2.500750e+01, 2.917375e+01,\n",
              "        3.334000e+01, 3.750625e+01, 4.167250e+01, 4.583875e+01,\n",
              "        5.000500e+01, 5.417125e+01, 5.833750e+01, 6.250375e+01,\n",
              "        6.667000e+01, 7.083625e+01, 7.500250e+01, 7.916875e+01,\n",
              "        8.333500e+01, 8.750125e+01, 9.166750e+01, 9.583375e+01,\n",
              "        1.000000e+02])}"
            ]
          },
          "execution_count": 28,
          "metadata": {},
          "output_type": "execute_result"
        }
      ],
      "source": [
        "# Regularization is a technique used to reduce the errors by fitting the function appropriately on the given training set and avoid overfitting. \n",
        "\n",
        "# penalty = [\"l1\", \"l2\", \"elasticnet\", \"none\"]\n",
        "penalty = ['none','l2', 'l1']\n",
        "C = np.linspace(0.01, 100, 25)\n",
        "\n",
        "\n",
        "# Create the grid\n",
        "logreg_grid = {\"penalty\": penalty,\n",
        "               \"C\": C\n",
        "               }\n",
        "logreg_grid      "
      ]
    },
    {
      "cell_type": "markdown",
      "metadata": {
        "id": "j6IWpQ0B3_ja"
      },
      "source": [
        "## **Build the LR model**"
      ]
    },
    {
      "cell_type": "code",
      "execution_count": 29,
      "metadata": {
        "id": "SilAxQCw3QRK"
      },
      "outputs": [],
      "source": [
        "logreg = LogisticRegression(random_state=1, multi_class = 'multinomial', solver = 'saga', max_iter = 1000)\n",
        "\n",
        "logreg_cv = GridSearchCV(logreg, logreg_grid, n_jobs = -1, cv = 10).fit(X_train_scaled, y_train)"
      ]
    },
    {
      "cell_type": "code",
      "execution_count": 41,
      "metadata": {
        "colab": {
          "base_uri": "https://localhost:8080/"
        },
        "id": "ZUWEyzFP3Y2i",
        "outputId": "bd76c420-cf2d-40f4-ad7d-f1d72404a639"
      },
      "outputs": [
        {
          "data": {
            "text/plain": [
              "0.8160118606375093"
            ]
          },
          "execution_count": 41,
          "metadata": {},
          "output_type": "execute_result"
        }
      ],
      "source": [
        "logreg_cv.best_score_"
      ]
    },
    {
      "cell_type": "code",
      "execution_count": 47,
      "metadata": {
        "id": "66k1SiVK3ajE"
      },
      "outputs": [],
      "source": [
        "logreg_cv.best_params_\n",
        "model = logreg_cv.best_estimator_"
      ]
    },
    {
      "cell_type": "code",
      "execution_count": 48,
      "metadata": {
        "colab": {
          "base_uri": "https://localhost:8080/"
        },
        "id": "iE60CvOS3bJi",
        "outputId": "c3393e02-cab7-40d3-9a09-3212500f0f5c"
      },
      "outputs": [
        {
          "data": {
            "text/plain": [
              "18"
            ]
          },
          "execution_count": 48,
          "metadata": {},
          "output_type": "execute_result"
        }
      ],
      "source": [
        "logreg_cv.n_features_in_"
      ]
    },
    {
      "cell_type": "markdown",
      "metadata": {
        "id": "c2HSs5BI4FtG"
      },
      "source": [
        "**plot the features score**"
      ]
    },
    {
      "cell_type": "code",
      "execution_count": 50,
      "metadata": {
        "colab": {
          "base_uri": "https://localhost:8080/",
          "height": 599
        },
        "id": "BEedYbDB3sdj",
        "outputId": "a52bec55-764c-4929-de8d-214783f3b637"
      },
      "outputs": [
        {
          "name": "stdout",
          "output_type": "stream",
          "text": [
            "Feature: 0, Score: 2.83243 col:AGE\n",
            "Feature: 1, Score: -0.25997 col:BODY_FAT\n",
            "Feature: 2, Score: -0.17905 col:WHOLE_BODY_FATFREE\n",
            "Feature: 3, Score: 0.02191 col:DRIVE\n",
            "Feature: 4, Score: 0.00875 col:TV_HRS\n",
            "Feature: 5, Score: -0.04464 col:COMP_HRS\n",
            "Feature: 6, Score: 1.55931 col:BMI\n",
            "Feature: 7, Score: -1.58376 col:SEX\n",
            "Feature: 8, Score: 0.05771 col:SLEEP\n",
            "Feature: 9, Score: 0.13899 col:BMI_CAT\n",
            "Feature: 10, Score: 0.69799 col:SMOKE\n",
            "Feature: 11, Score: 0.01384 col:WALK_DAYS\n",
            "Feature: 12, Score: 0.03681 col:DUR_WALK\n",
            "Feature: 13, Score: -0.00581 col:MOD_DAYS\n",
            "Feature: 14, Score: 0.02628 col:VIG_DAYS\n",
            "Feature: 15, Score: -0.01554 col:TOTAL_WALK\n",
            "Feature: 16, Score: 0.02191 col:DRIVE_HRS\n",
            "Feature: 17, Score: 0.68933 col:DIA_BP_AUTO\n"
          ]
        },
        {
          "data": {
            "image/png": "[encoded data removed]",
            "text/plain": [
              "<Figure size 432x288 with 1 Axes>"
            ]
          },
          "metadata": {
            "needs_background": "light"
          },
          "output_type": "display_data"
        }
      ],
      "source": [
        "import joblib\n",
        "from matplotlib import pyplot\n",
        "#These coefficients can provide the basis for a crude feature importance score\n",
        "importance = model.coef_[0]\n",
        "# summarize feature importance\n",
        "for i,v in enumerate(importance):\n",
        "\tprint('Feature: %0d, Score: %.5f col:%s' % (i,v,cols[i]))\n",
        "# plot feature importance\n",
        "pyplot.bar([x for x in range(len(importance))], importance)\n",
        "pyplot.show()"
      ]
    },
    {
      "cell_type": "markdown",
      "metadata": {
        "id": "Tx0JfAy74L-y"
      },
      "source": [
        "**Prediction**"
      ]
    },
    {
      "cell_type": "code",
      "execution_count": 51,
      "metadata": {
        "id": "B1s2mXFq3wvl"
      },
      "outputs": [],
      "source": [
        "res = logreg_cv.best_estimator_.predict(X_test_scaled)"
      ]
    },
    {
      "cell_type": "code",
      "execution_count": 52,
      "metadata": {
        "colab": {
          "base_uri": "https://localhost:8080/"
        },
        "id": "A6DMgsHM3y_Z",
        "outputId": "0c85f70f-0e63-45e2-8127-b9444613759f"
      },
      "outputs": [
        {
          "data": {
            "text/plain": [
              "0.827247191011236"
            ]
          },
          "execution_count": 52,
          "metadata": {},
          "output_type": "execute_result"
        }
      ],
      "source": [
        "np.mean(logreg_cv.best_estimator_.predict(X_test_scaled) == y_test)"
      ]
    },
    {
      "cell_type": "markdown",
      "metadata": {
        "id": "HFr5a9Iy4nVs"
      },
      "source": [
        "# **Random Forest**"
      ]
    },
    {
      "cell_type": "markdown",
      "metadata": {
        "id": "GBbqzQXOAXuj"
      },
      "source": [
        "## **Create the grid**"
      ]
    },
    {
      "cell_type": "code",
      "execution_count": 53,
      "metadata": {
        "colab": {
          "base_uri": "https://localhost:8080/"
        },
        "id": "hYr7HzKOAR70",
        "outputId": "6bcf594f-08af-4c23-9526-d0730570f3e2"
      },
      "outputs": [
        {
          "data": {
            "text/plain": [
              "{'n_estimators': [200, 400, 600, 800, 1000, 1200, 1400, 1600, 1800, 2000],\n",
              " 'max_features': ['log2', 'sqrt'],\n",
              " 'max_depth': [10, 20, 30, 40, 50, 60, 70, 80, 90, 100, 110, None],\n",
              " 'min_samples_split': [1, 2, 5, 10],\n",
              " 'min_samples_leaf': [0.5, 1, 2, 4]}"
            ]
          },
          "execution_count": 53,
          "metadata": {},
          "output_type": "execute_result"
        }
      ],
      "source": [
        "# Random Forest\n",
        "# Number of trees in random forest\n",
        "n_estimators = [int(x) for x in np.linspace(start = 200, stop = 2000, num = 10)]\n",
        "# Number of features to consider at every split\n",
        "# will be sqrt of the column number without the FULL_CVD_RISK column - auto and sqrt is the same\n",
        "max_features = ['log2', 'sqrt']\n",
        "# Maximum number of levels in tree\n",
        "max_depth = [int(x) for x in np.linspace(10, 110, num = 11)]\n",
        "max_depth.append(None)\n",
        "# Minimum number of samples required to split a node\n",
        "min_samples_split = [1,2, 5, 10]\n",
        "# Minimum number of samples required at each leaf node\n",
        "min_samples_leaf = [0.5,1, 2, 4]\n",
        "\n",
        "RF_grid = {'n_estimators': n_estimators,\n",
        "           'max_features': max_features,\n",
        "           'max_depth': max_depth,\n",
        "           'min_samples_split': min_samples_split,\n",
        "           'min_samples_leaf': min_samples_leaf}\n",
        "\n",
        "RF_grid"
      ]
    },
    {
      "cell_type": "markdown",
      "metadata": {
        "id": "NZ7-628rAivS"
      },
      "source": [
        "## **Build the model**"
      ]
    },
    {
      "cell_type": "code",
      "execution_count": 54,
      "metadata": {
        "colab": {
          "base_uri": "https://localhost:8080/"
        },
        "id": "Wr4nxpVrAeqn",
        "outputId": "2ebfeb83-339b-4cec-db5b-98051d73b329"
      },
      "outputs": [
        {
          "name": "stderr",
          "output_type": "stream",
          "text": [
            "/usr/local/lib/python3.8/dist-packages/sklearn/model_selection/_validation.py:372: FitFailedWarning: \n",
            "130 fits failed out of a total of 500.\n",
            "The score on these train-test partitions for these parameters will be set to nan.\n",
            "If these failures are not expected, you can try to debug them by setting error_score='raise'.\n",
            "\n",
            "Below are more details about the failures:\n",
            "--------------------------------------------------------------------------------\n",
            "130 fits failed with the following error:\n",
            "Traceback (most recent call last):\n",
            "  File \"/usr/local/lib/python3.8/dist-packages/sklearn/model_selection/_validation.py\", line 680, in _fit_and_score\n",
            "    estimator.fit(X_train, y_train, **fit_params)\n",
            "  File \"/usr/local/lib/python3.8/dist-packages/sklearn/ensemble/_forest.py\", line 450, in fit\n",
            "    trees = Parallel(\n",
            "  File \"/usr/local/lib/python3.8/dist-packages/joblib/parallel.py\", line 1085, in __call__\n",
            "    if self.dispatch_one_batch(iterator):\n",
            "  File \"/usr/local/lib/python3.8/dist-packages/joblib/parallel.py\", line 901, in dispatch_one_batch\n",
            "    self._dispatch(tasks)\n",
            "  File \"/usr/local/lib/python3.8/dist-packages/joblib/parallel.py\", line 819, in _dispatch\n",
            "    job = self._backend.apply_async(batch, callback=cb)\n",
            "  File \"/usr/local/lib/python3.8/dist-packages/joblib/_parallel_backends.py\", line 208, in apply_async\n",
            "    result = ImmediateResult(func)\n",
            "  File \"/usr/local/lib/python3.8/dist-packages/joblib/_parallel_backends.py\", line 597, in __init__\n",
            "    self.results = batch()\n",
            "  File \"/usr/local/lib/python3.8/dist-packages/joblib/parallel.py\", line 288, in __call__\n",
            "    return [func(*args, **kwargs)\n",
            "  File \"/usr/local/lib/python3.8/dist-packages/joblib/parallel.py\", line 288, in <listcomp>\n",
            "    return [func(*args, **kwargs)\n",
            "  File \"/usr/local/lib/python3.8/dist-packages/sklearn/utils/fixes.py\", line 216, in __call__\n",
            "    return self.function(*args, **kwargs)\n",
            "  File \"/usr/local/lib/python3.8/dist-packages/sklearn/ensemble/_forest.py\", line 185, in _parallel_build_trees\n",
            "    tree.fit(X, y, sample_weight=curr_sample_weight, check_input=False)\n",
            "  File \"/usr/local/lib/python3.8/dist-packages/sklearn/tree/_classes.py\", line 937, in fit\n",
            "    super().fit(\n",
            "  File \"/usr/local/lib/python3.8/dist-packages/sklearn/tree/_classes.py\", line 250, in fit\n",
            "    raise ValueError(\n",
            "ValueError: min_samples_split must be an integer greater than 1 or a float in (0.0, 1.0]; got the integer 1\n",
            "\n",
            "  warnings.warn(some_fits_failed_message, FitFailedWarning)\n",
            "/usr/local/lib/python3.8/dist-packages/sklearn/model_selection/_search.py:969: UserWarning: One or more of the test scores are non-finite: [0.54810477        nan        nan 0.79387818 0.80125154 0.79879664\n",
            " 0.80125525        nan 0.79949592 0.79668767 0.79703731        nan\n",
            "        nan 0.7987954  0.79633926 0.79528045 0.7956338  0.798447\n",
            " 0.79773907 0.54810477 0.79703731 0.7998468  0.79949592 0.79703978\n",
            " 0.7987954         nan        nan 0.80090314        nan 0.54810477\n",
            "        nan 0.79633803 0.79633679 0.54810477 0.79598468 0.7963405\n",
            " 0.79738942        nan 0.79949839 0.79914628 0.80160366 0.80371016\n",
            "        nan 0.54810477        nan 0.54810477 0.79809241        nan\n",
            " 0.54810477 0.80090314]\n",
            "  warnings.warn(\n"
          ]
        }
      ],
      "source": [
        "RF = RandomForestClassifier()\n",
        "#optimization\n",
        "RF_cv = RandomizedSearchCV(RF, RF_grid, n_iter = 50, n_jobs = -1, cv = 10, random_state = 1).fit(X_train_scaled, y_train)"
      ]
    },
    {
      "cell_type": "code",
      "execution_count": 55,
      "metadata": {
        "colab": {
          "base_uri": "https://localhost:8080/"
        },
        "id": "a9pa_RDiAuQm",
        "outputId": "1cf56b6c-b4e3-4f1d-b2dc-603b70f85ac3"
      },
      "outputs": [
        {
          "data": {
            "text/plain": [
              "0.8037101556708672"
            ]
          },
          "execution_count": 55,
          "metadata": {},
          "output_type": "execute_result"
        }
      ],
      "source": [
        "RF_cv.best_score_\n",
        "model = RF_cv.best_estimator_"
      ]
    },
    {
      "cell_type": "code",
      "execution_count": 56,
      "metadata": {
        "colab": {
          "base_uri": "https://localhost:8080/"
        },
        "id": "S43yapF_Aubk",
        "outputId": "37d7b082-dfc1-448c-9f50-8511aa514315"
      },
      "outputs": [
        {
          "data": {
            "text/plain": [
              "{'n_estimators': 1800,\n",
              " 'min_samples_split': 2,\n",
              " 'min_samples_leaf': 1,\n",
              " 'max_features': 'log2',\n",
              " 'max_depth': 80}"
            ]
          },
          "execution_count": 56,
          "metadata": {},
          "output_type": "execute_result"
        }
      ],
      "source": [
        "RF_cv.best_params_"
      ]
    },
    {
      "cell_type": "markdown",
      "metadata": {
        "id": "aylTVlFtBE47"
      },
      "source": [
        "**Perdiction**"
      ]
    },
    {
      "cell_type": "code",
      "execution_count": 57,
      "metadata": {
        "colab": {
          "base_uri": "https://localhost:8080/"
        },
        "id": "OUAKHnejAzsC",
        "outputId": "e15c764c-4283-4ffe-fb1f-8678c1d95cb4"
      },
      "outputs": [
        {
          "data": {
            "text/plain": [
              "0.8132022471910112"
            ]
          },
          "execution_count": 57,
          "metadata": {},
          "output_type": "execute_result"
        }
      ],
      "source": [
        "np.mean(RF_cv.best_estimator_.predict(X_test_scaled) == y_test)"
      ]
    },
    {
      "cell_type": "markdown",
      "metadata": {
        "id": "CDNaxJdf5ynf"
      },
      "source": [
        "# **k-nearest neighbors**"
      ]
    },
    {
      "cell_type": "markdown",
      "metadata": {
        "id": "JyQpdFiN6KJO"
      },
      "source": [
        "## **Create the grid and build the model**"
      ]
    },
    {
      "cell_type": "code",
      "execution_count": 33,
      "metadata": {
        "colab": {
          "base_uri": "https://localhost:8080/"
        },
        "id": "YIuxNeZ556Wq",
        "outputId": "636f8540-ecdf-49b9-e22a-36dd1f03efe6"
      },
      "outputs": [
        {
          "name": "stdout",
          "output_type": "stream",
          "text": [
            "{'n_neighbors': array([ 3,  5,  7,  9, 11, 13, 15, 17, 19, 21, 23, 25, 27, 29, 31, 33, 35,\n",
            "       37, 39, 41, 43, 45, 47, 49, 51, 53, 55, 57, 59, 61, 63, 65, 67, 69,\n",
            "       71, 73, 75, 77, 79, 81, 83, 85, 87, 89, 91, 93, 95, 97]), 'p': [1, 2]}\n"
          ]
        }
      ],
      "source": [
        "n_neighbors = np.arange(3, 99, 2)\n",
        "p = [1,2]\n",
        "\n",
        "# Create the grid\n",
        "KNN_grid = {'n_neighbors': n_neighbors, \"p\":p}\n",
        "print(KNN_grid)\n",
        "KNN = KNeighborsClassifier(n_neighbors)\n",
        "KNN_cv = GridSearchCV(KNN, KNN_grid, n_jobs = -1, cv = 10).fit(X_train_scaled, y_train)    "
      ]
    },
    {
      "cell_type": "markdown",
      "metadata": {
        "id": "Zj-mWgfJ6UhK"
      },
      "source": [
        "**Prediction**"
      ]
    },
    {
      "cell_type": "code",
      "execution_count": 34,
      "metadata": {
        "colab": {
          "base_uri": "https://localhost:8080/"
        },
        "id": "bUQRYJ-p6XiE",
        "outputId": "ad5d2a2a-16a9-4e19-fe96-1fab511b7dbc"
      },
      "outputs": [
        {
          "data": {
            "text/plain": [
              "0.7542068198665678"
            ]
          },
          "execution_count": 34,
          "metadata": {},
          "output_type": "execute_result"
        }
      ],
      "source": [
        "KNN_cv.best_score_"
      ]
    },
    {
      "cell_type": "code",
      "execution_count": 35,
      "metadata": {
        "id": "5R1NmytW6ZFo"
      },
      "outputs": [],
      "source": [
        "model = KNN_cv.best_params_"
      ]
    },
    {
      "cell_type": "code",
      "execution_count": 36,
      "metadata": {
        "colab": {
          "base_uri": "https://localhost:8080/"
        },
        "id": "zT4m-oBd6b2q",
        "outputId": "774c7320-4ebc-4eb9-e86c-dc9b124aa8fe"
      },
      "outputs": [
        {
          "data": {
            "text/plain": [
              "18"
            ]
          },
          "execution_count": 36,
          "metadata": {},
          "output_type": "execute_result"
        }
      ],
      "source": [
        "KNN_cv.n_features_in_"
      ]
    },
    {
      "cell_type": "code",
      "execution_count": 37,
      "metadata": {
        "colab": {
          "base_uri": "https://localhost:8080/",
          "height": 36
        },
        "id": "c68CJMSA6zl5",
        "outputId": "ce8f46dd-8dec-42c3-db4d-a8162ea8e71e"
      },
      "outputs": [
        {
          "data": {
            "application/vnd.google.colaboratory.intrinsic+json": {
              "type": "string"
            },
            "text/plain": [
              "'Medium'"
            ]
          },
          "execution_count": 37,
          "metadata": {},
          "output_type": "execute_result"
        }
      ],
      "source": [
        "res= KNN_cv.best_estimator_.predict(X_test_scaled)\n",
        "res[10]"
      ]
    },
    {
      "cell_type": "code",
      "execution_count": 38,
      "metadata": {
        "colab": {
          "base_uri": "https://localhost:8080/"
        },
        "id": "tQ2_8Q-_60eu",
        "outputId": "8d9dbb6d-6b9f-4759-d630-2ef8a928571b"
      },
      "outputs": [
        {
          "data": {
            "text/plain": [
              "0.7668539325842697"
            ]
          },
          "execution_count": 38,
          "metadata": {},
          "output_type": "execute_result"
        }
      ],
      "source": [
        "np.mean(KNN_cv.best_estimator_.predict(X_test_scaled) == y_test)"
      ]
    },
    {
      "cell_type": "markdown",
      "metadata": {
        "id": "bLiwbobW7cJA"
      },
      "source": [
        "Accuracy classification score"
      ]
    },
    {
      "cell_type": "code",
      "execution_count": 58,
      "metadata": {
        "colab": {
          "base_uri": "https://localhost:8080/"
        },
        "id": "971tCu_Q7AEv",
        "outputId": "a5879bb6-6f1f-4782-bf07-507723aa1d34"
      },
      "outputs": [
        {
          "name": "stdout",
          "output_type": "stream",
          "text": [
            "0.2050561797752809\n"
          ]
        },
        {
          "name": "stderr",
          "output_type": "stream",
          "text": [
            "/usr/local/lib/python3.8/dist-packages/sklearn/base.py:443: UserWarning: X has feature names, but KNeighborsClassifier was fitted without feature names\n",
            "  warnings.warn(\n"
          ]
        }
      ],
      "source": [
        "from sklearn.metrics import accuracy_score\n",
        "y_pred =  KNN_cv.predict(X_test)\n",
        "print(accuracy_score(y_test,y_pred))"
      ]
    }
  ],
  "metadata": {
    "colab": {
      "authorship_tag": "ABX9TyNrrmquPHGKoHuSRkO5fC7t",
      "include_colab_link": true,
      "provenance": []
    },
    "kernelspec": {
      "display_name": ".venv",
      "language": "python",
      "name": "python3"
    },
    "language_info": {
      "name": "python",
      "version": "3.11.1 (tags/v3.11.1:a7a450f, Dec  6 2022, 19:58:39) [MSC v.1934 64 bit (AMD64)]"
    },
    "vscode": {
      "interpreter": {
        "hash": "2e724b159aad59e54bb77b9ab0cd8209a4c70ab3af84ef62b1aba88d07f374da"
      }
    }
  },
  "nbformat": 4,
  "nbformat_minor": 0
}
