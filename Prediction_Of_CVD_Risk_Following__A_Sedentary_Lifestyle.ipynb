{
  "nbformat": 4,
  "nbformat_minor": 0,
  "metadata": {
    "colab": {
      "provenance": [],
      "authorship_tag": "ABX9TyOVikds/+/ry7M6Tf1E6ffz",
      "include_colab_link": true
    },
    "kernelspec": {
      "name": "python3",
      "display_name": "Python 3"
    },
    "language_info": {
      "name": "python"
    }
  },
  "cells": [
    {
      "cell_type": "markdown",
      "metadata": {
        "id": "view-in-github",
        "colab_type": "text"
      },
      "source": [
        "<a href=\"https://colab.research.google.com/github/barBraude/final_project/blob/confusion-matrix/Prediction_Of_CVD_Risk_Following__A_Sedentary_Lifestyle.ipynb\" target=\"_parent\"><img src=\"https://colab.research.google.com/assets/colab-badge.svg\" alt=\"Open In Colab\"/></a>"
      ]
    },
    {
      "cell_type": "code",
      "execution_count": null,
      "metadata": {
        "id": "b_tf-9d3ElWZ"
      },
      "outputs": [],
      "source": [
        "import pandas as pd\n",
        "import numpy as np\n",
        "import seaborn as sns"
      ]
    },
    {
      "cell_type": "code",
      "source": [
        "from google.colab import drive\n",
        "drive.mount('/content/gdrive')\n",
        "df= pd.read_csv(\"/content/gdrive/MyDrive/Final project Bar &Rinat/datasets and papers/datasets/mockdata.csv\")"
      ],
      "metadata": {
        "colab": {
          "base_uri": "https://localhost:8080/"
        },
        "id": "E9YGBFxsEt6K",
        "outputId": "4a370573-783c-439e-972a-78d59840b219"
      },
      "execution_count": null,
      "outputs": [
        {
          "output_type": "stream",
          "name": "stdout",
          "text": [
            "Mounted at /content/gdrive\n"
          ]
        }
      ]
    },
    {
      "cell_type": "markdown",
      "source": [
        "# **Data Preparation**"
      ],
      "metadata": {
        "id": "fci1wSaWwb3U"
      }
    },
    {
      "cell_type": "markdown",
      "source": [
        " **Remove the columns that their mean is less then 15%**"
      ],
      "metadata": {
        "id": "Wlu4g6CkvSow"
      }
    },
    {
      "cell_type": "code",
      "source": [
        "# cols_to_remove - choose all the colums that their meas is bigger then 0.15\n",
        "cols_to_remove = np.where(df.isna().mean() > 0.15)[0]\n",
        "df1 = df.iloc[:,np.setdiff1d(np.arange(0,df.shape[1]), cols_to_remove)]\n",
        "df1"
      ],
      "metadata": {
        "colab": {
          "base_uri": "https://localhost:8080/",
          "height": 488
        },
        "id": "JejPaJSsE7_b",
        "outputId": "e053f8b2-55cf-41e7-e4f3-aa7c0dc401a9"
      },
      "execution_count": null,
      "outputs": [
        {
          "output_type": "execute_result",
          "data": {
            "text/plain": [
              "      CHRONO_4_CAT  AGE  RESIDENCE  BODY_FAT  WHOLE_BODY_FAT  \\\n",
              "0                3   43        1.0      36.8            26.1   \n",
              "1                3   46        1.0      43.5            51.7   \n",
              "2                2   47        1.0      31.8            18.3   \n",
              "3                2   63        2.0      37.2            27.0   \n",
              "4                4   54        1.0      36.9            24.7   \n",
              "...            ...  ...        ...       ...             ...   \n",
              "4995             1   69        1.0      26.5            17.2   \n",
              "4996             4   70        1.0      35.0            39.4   \n",
              "4997             1   63        1.0      28.0            23.8   \n",
              "4998             1   62        1.0      44.4            38.2   \n",
              "4999             1   67        1.0      41.4            30.0   \n",
              "\n",
              "      WHOLE_BODY_FATFREE  SEASON_ASSESS  DRIVE  SUMMER  WINTER  ...  \\\n",
              "0                   44.8              2    2.0     3.0     0.5  ...   \n",
              "1                   67.2              1    1.0     3.0     1.0  ...   \n",
              "2                   39.2              4    1.0     1.0     0.5  ...   \n",
              "3                   45.6              4    2.0     3.0     1.0  ...   \n",
              "4                   42.3              3    1.0     0.5     0.5  ...   \n",
              "...                  ...            ...    ...     ...     ...  ...   \n",
              "4995                47.6              4    0.0     2.0     1.0  ...   \n",
              "4996                73.1              4    0.0     0.5     0.5  ...   \n",
              "4997                61.3              2    0.0     6.0     4.0  ...   \n",
              "4998                47.8              3    1.0     5.0     0.5  ...   \n",
              "4999                42.4              1    2.0     5.0     5.0  ...   \n",
              "\n",
              "      BP_MEDS_ALL  SYS_BP_AUTO  DIA_BP_AUTO  ALCOHOL_STATUS  ALCOHOL_INTAKE  \\\n",
              "0               0          119           71             2.0             3.0   \n",
              "1               1          142           92             2.0             2.0   \n",
              "2               0          177           95             2.0             1.0   \n",
              "3               1          129           78             2.0             3.0   \n",
              "4               0          119           72             2.0             2.0   \n",
              "...           ...          ...          ...             ...             ...   \n",
              "4995            0          134           86             2.0             3.0   \n",
              "4996            0          134           91             2.0             4.0   \n",
              "4997            1          142           85             2.0             2.0   \n",
              "4998            0          168           89             2.0             4.0   \n",
              "4999            0          149           84             2.0             4.0   \n",
              "\n",
              "      FRUIT_VEG  FRUITVEG_REC     N  FULL_CVD_RISK  DRIVE_HRS  \n",
              "0      1.333333           0.0     1       0.164995          2  \n",
              "1      3.000000           0.0     2       0.505950          1  \n",
              "2      1.833333           0.0     3       0.307337          1  \n",
              "3      5.000000           1.0     4       0.535705          2  \n",
              "4      4.333333           0.0     5       0.281880          1  \n",
              "...         ...           ...   ...            ...        ...  \n",
              "4995   3.333333           0.0  4996       0.569880          0  \n",
              "4996   2.333333           0.0  4997       0.750447          0  \n",
              "4997   4.000000           0.0  4998       0.730383          0  \n",
              "4998   4.333333           0.0  4999       0.600544          1  \n",
              "4999   5.666667           1.0  5000       0.501944          2  \n",
              "\n",
              "[5000 rows x 52 columns]"
            ],
            "text/html": [
              "\n",
              "  <div id=\"df-5ff969d9-a319-422f-b6b5-f443871da858\">\n",
              "    <div class=\"colab-df-container\">\n",
              "      <div>\n",
              "<style scoped>\n",
              "    .dataframe tbody tr th:only-of-type {\n",
              "        vertical-align: middle;\n",
              "    }\n",
              "\n",
              "    .dataframe tbody tr th {\n",
              "        vertical-align: top;\n",
              "    }\n",
              "\n",
              "    .dataframe thead th {\n",
              "        text-align: right;\n",
              "    }\n",
              "</style>\n",
              "<table border=\"1\" class=\"dataframe\">\n",
              "  <thead>\n",
              "    <tr style=\"text-align: right;\">\n",
              "      <th></th>\n",
              "      <th>CHRONO_4_CAT</th>\n",
              "      <th>AGE</th>\n",
              "      <th>RESIDENCE</th>\n",
              "      <th>BODY_FAT</th>\n",
              "      <th>WHOLE_BODY_FAT</th>\n",
              "      <th>WHOLE_BODY_FATFREE</th>\n",
              "      <th>SEASON_ASSESS</th>\n",
              "      <th>DRIVE</th>\n",
              "      <th>SUMMER</th>\n",
              "      <th>WINTER</th>\n",
              "      <th>...</th>\n",
              "      <th>BP_MEDS_ALL</th>\n",
              "      <th>SYS_BP_AUTO</th>\n",
              "      <th>DIA_BP_AUTO</th>\n",
              "      <th>ALCOHOL_STATUS</th>\n",
              "      <th>ALCOHOL_INTAKE</th>\n",
              "      <th>FRUIT_VEG</th>\n",
              "      <th>FRUITVEG_REC</th>\n",
              "      <th>N</th>\n",
              "      <th>FULL_CVD_RISK</th>\n",
              "      <th>DRIVE_HRS</th>\n",
              "    </tr>\n",
              "  </thead>\n",
              "  <tbody>\n",
              "    <tr>\n",
              "      <th>0</th>\n",
              "      <td>3</td>\n",
              "      <td>43</td>\n",
              "      <td>1.0</td>\n",
              "      <td>36.8</td>\n",
              "      <td>26.1</td>\n",
              "      <td>44.8</td>\n",
              "      <td>2</td>\n",
              "      <td>2.0</td>\n",
              "      <td>3.0</td>\n",
              "      <td>0.5</td>\n",
              "      <td>...</td>\n",
              "      <td>0</td>\n",
              "      <td>119</td>\n",
              "      <td>71</td>\n",
              "      <td>2.0</td>\n",
              "      <td>3.0</td>\n",
              "      <td>1.333333</td>\n",
              "      <td>0.0</td>\n",
              "      <td>1</td>\n",
              "      <td>0.164995</td>\n",
              "      <td>2</td>\n",
              "    </tr>\n",
              "    <tr>\n",
              "      <th>1</th>\n",
              "      <td>3</td>\n",
              "      <td>46</td>\n",
              "      <td>1.0</td>\n",
              "      <td>43.5</td>\n",
              "      <td>51.7</td>\n",
              "      <td>67.2</td>\n",
              "      <td>1</td>\n",
              "      <td>1.0</td>\n",
              "      <td>3.0</td>\n",
              "      <td>1.0</td>\n",
              "      <td>...</td>\n",
              "      <td>1</td>\n",
              "      <td>142</td>\n",
              "      <td>92</td>\n",
              "      <td>2.0</td>\n",
              "      <td>2.0</td>\n",
              "      <td>3.000000</td>\n",
              "      <td>0.0</td>\n",
              "      <td>2</td>\n",
              "      <td>0.505950</td>\n",
              "      <td>1</td>\n",
              "    </tr>\n",
              "    <tr>\n",
              "      <th>2</th>\n",
              "      <td>2</td>\n",
              "      <td>47</td>\n",
              "      <td>1.0</td>\n",
              "      <td>31.8</td>\n",
              "      <td>18.3</td>\n",
              "      <td>39.2</td>\n",
              "      <td>4</td>\n",
              "      <td>1.0</td>\n",
              "      <td>1.0</td>\n",
              "      <td>0.5</td>\n",
              "      <td>...</td>\n",
              "      <td>0</td>\n",
              "      <td>177</td>\n",
              "      <td>95</td>\n",
              "      <td>2.0</td>\n",
              "      <td>1.0</td>\n",
              "      <td>1.833333</td>\n",
              "      <td>0.0</td>\n",
              "      <td>3</td>\n",
              "      <td>0.307337</td>\n",
              "      <td>1</td>\n",
              "    </tr>\n",
              "    <tr>\n",
              "      <th>3</th>\n",
              "      <td>2</td>\n",
              "      <td>63</td>\n",
              "      <td>2.0</td>\n",
              "      <td>37.2</td>\n",
              "      <td>27.0</td>\n",
              "      <td>45.6</td>\n",
              "      <td>4</td>\n",
              "      <td>2.0</td>\n",
              "      <td>3.0</td>\n",
              "      <td>1.0</td>\n",
              "      <td>...</td>\n",
              "      <td>1</td>\n",
              "      <td>129</td>\n",
              "      <td>78</td>\n",
              "      <td>2.0</td>\n",
              "      <td>3.0</td>\n",
              "      <td>5.000000</td>\n",
              "      <td>1.0</td>\n",
              "      <td>4</td>\n",
              "      <td>0.535705</td>\n",
              "      <td>2</td>\n",
              "    </tr>\n",
              "    <tr>\n",
              "      <th>4</th>\n",
              "      <td>4</td>\n",
              "      <td>54</td>\n",
              "      <td>1.0</td>\n",
              "      <td>36.9</td>\n",
              "      <td>24.7</td>\n",
              "      <td>42.3</td>\n",
              "      <td>3</td>\n",
              "      <td>1.0</td>\n",
              "      <td>0.5</td>\n",
              "      <td>0.5</td>\n",
              "      <td>...</td>\n",
              "      <td>0</td>\n",
              "      <td>119</td>\n",
              "      <td>72</td>\n",
              "      <td>2.0</td>\n",
              "      <td>2.0</td>\n",
              "      <td>4.333333</td>\n",
              "      <td>0.0</td>\n",
              "      <td>5</td>\n",
              "      <td>0.281880</td>\n",
              "      <td>1</td>\n",
              "    </tr>\n",
              "    <tr>\n",
              "      <th>...</th>\n",
              "      <td>...</td>\n",
              "      <td>...</td>\n",
              "      <td>...</td>\n",
              "      <td>...</td>\n",
              "      <td>...</td>\n",
              "      <td>...</td>\n",
              "      <td>...</td>\n",
              "      <td>...</td>\n",
              "      <td>...</td>\n",
              "      <td>...</td>\n",
              "      <td>...</td>\n",
              "      <td>...</td>\n",
              "      <td>...</td>\n",
              "      <td>...</td>\n",
              "      <td>...</td>\n",
              "      <td>...</td>\n",
              "      <td>...</td>\n",
              "      <td>...</td>\n",
              "      <td>...</td>\n",
              "      <td>...</td>\n",
              "      <td>...</td>\n",
              "    </tr>\n",
              "    <tr>\n",
              "      <th>4995</th>\n",
              "      <td>1</td>\n",
              "      <td>69</td>\n",
              "      <td>1.0</td>\n",
              "      <td>26.5</td>\n",
              "      <td>17.2</td>\n",
              "      <td>47.6</td>\n",
              "      <td>4</td>\n",
              "      <td>0.0</td>\n",
              "      <td>2.0</td>\n",
              "      <td>1.0</td>\n",
              "      <td>...</td>\n",
              "      <td>0</td>\n",
              "      <td>134</td>\n",
              "      <td>86</td>\n",
              "      <td>2.0</td>\n",
              "      <td>3.0</td>\n",
              "      <td>3.333333</td>\n",
              "      <td>0.0</td>\n",
              "      <td>4996</td>\n",
              "      <td>0.569880</td>\n",
              "      <td>0</td>\n",
              "    </tr>\n",
              "    <tr>\n",
              "      <th>4996</th>\n",
              "      <td>4</td>\n",
              "      <td>70</td>\n",
              "      <td>1.0</td>\n",
              "      <td>35.0</td>\n",
              "      <td>39.4</td>\n",
              "      <td>73.1</td>\n",
              "      <td>4</td>\n",
              "      <td>0.0</td>\n",
              "      <td>0.5</td>\n",
              "      <td>0.5</td>\n",
              "      <td>...</td>\n",
              "      <td>0</td>\n",
              "      <td>134</td>\n",
              "      <td>91</td>\n",
              "      <td>2.0</td>\n",
              "      <td>4.0</td>\n",
              "      <td>2.333333</td>\n",
              "      <td>0.0</td>\n",
              "      <td>4997</td>\n",
              "      <td>0.750447</td>\n",
              "      <td>0</td>\n",
              "    </tr>\n",
              "    <tr>\n",
              "      <th>4997</th>\n",
              "      <td>1</td>\n",
              "      <td>63</td>\n",
              "      <td>1.0</td>\n",
              "      <td>28.0</td>\n",
              "      <td>23.8</td>\n",
              "      <td>61.3</td>\n",
              "      <td>2</td>\n",
              "      <td>0.0</td>\n",
              "      <td>6.0</td>\n",
              "      <td>4.0</td>\n",
              "      <td>...</td>\n",
              "      <td>1</td>\n",
              "      <td>142</td>\n",
              "      <td>85</td>\n",
              "      <td>2.0</td>\n",
              "      <td>2.0</td>\n",
              "      <td>4.000000</td>\n",
              "      <td>0.0</td>\n",
              "      <td>4998</td>\n",
              "      <td>0.730383</td>\n",
              "      <td>0</td>\n",
              "    </tr>\n",
              "    <tr>\n",
              "      <th>4998</th>\n",
              "      <td>1</td>\n",
              "      <td>62</td>\n",
              "      <td>1.0</td>\n",
              "      <td>44.4</td>\n",
              "      <td>38.2</td>\n",
              "      <td>47.8</td>\n",
              "      <td>3</td>\n",
              "      <td>1.0</td>\n",
              "      <td>5.0</td>\n",
              "      <td>0.5</td>\n",
              "      <td>...</td>\n",
              "      <td>0</td>\n",
              "      <td>168</td>\n",
              "      <td>89</td>\n",
              "      <td>2.0</td>\n",
              "      <td>4.0</td>\n",
              "      <td>4.333333</td>\n",
              "      <td>0.0</td>\n",
              "      <td>4999</td>\n",
              "      <td>0.600544</td>\n",
              "      <td>1</td>\n",
              "    </tr>\n",
              "    <tr>\n",
              "      <th>4999</th>\n",
              "      <td>1</td>\n",
              "      <td>67</td>\n",
              "      <td>1.0</td>\n",
              "      <td>41.4</td>\n",
              "      <td>30.0</td>\n",
              "      <td>42.4</td>\n",
              "      <td>1</td>\n",
              "      <td>2.0</td>\n",
              "      <td>5.0</td>\n",
              "      <td>5.0</td>\n",
              "      <td>...</td>\n",
              "      <td>0</td>\n",
              "      <td>149</td>\n",
              "      <td>84</td>\n",
              "      <td>2.0</td>\n",
              "      <td>4.0</td>\n",
              "      <td>5.666667</td>\n",
              "      <td>1.0</td>\n",
              "      <td>5000</td>\n",
              "      <td>0.501944</td>\n",
              "      <td>2</td>\n",
              "    </tr>\n",
              "  </tbody>\n",
              "</table>\n",
              "<p>5000 rows × 52 columns</p>\n",
              "</div>\n",
              "      <button class=\"colab-df-convert\" onclick=\"convertToInteractive('df-5ff969d9-a319-422f-b6b5-f443871da858')\"\n",
              "              title=\"Convert this dataframe to an interactive table.\"\n",
              "              style=\"display:none;\">\n",
              "        \n",
              "  <svg xmlns=\"http://www.w3.org/2000/svg\" height=\"24px\"viewBox=\"0 0 24 24\"\n",
              "       width=\"24px\">\n",
              "    <path d=\"M0 0h24v24H0V0z\" fill=\"none\"/>\n",
              "    <path d=\"M18.56 5.44l.94 2.06.94-2.06 2.06-.94-2.06-.94-.94-2.06-.94 2.06-2.06.94zm-11 1L8.5 8.5l.94-2.06 2.06-.94-2.06-.94L8.5 2.5l-.94 2.06-2.06.94zm10 10l.94 2.06.94-2.06 2.06-.94-2.06-.94-.94-2.06-.94 2.06-2.06.94z\"/><path d=\"M17.41 7.96l-1.37-1.37c-.4-.4-.92-.59-1.43-.59-.52 0-1.04.2-1.43.59L10.3 9.45l-7.72 7.72c-.78.78-.78 2.05 0 2.83L4 21.41c.39.39.9.59 1.41.59.51 0 1.02-.2 1.41-.59l7.78-7.78 2.81-2.81c.8-.78.8-2.07 0-2.86zM5.41 20L4 18.59l7.72-7.72 1.47 1.35L5.41 20z\"/>\n",
              "  </svg>\n",
              "      </button>\n",
              "      \n",
              "  <style>\n",
              "    .colab-df-container {\n",
              "      display:flex;\n",
              "      flex-wrap:wrap;\n",
              "      gap: 12px;\n",
              "    }\n",
              "\n",
              "    .colab-df-convert {\n",
              "      background-color: #E8F0FE;\n",
              "      border: none;\n",
              "      border-radius: 50%;\n",
              "      cursor: pointer;\n",
              "      display: none;\n",
              "      fill: #1967D2;\n",
              "      height: 32px;\n",
              "      padding: 0 0 0 0;\n",
              "      width: 32px;\n",
              "    }\n",
              "\n",
              "    .colab-df-convert:hover {\n",
              "      background-color: #E2EBFA;\n",
              "      box-shadow: 0px 1px 2px rgba(60, 64, 67, 0.3), 0px 1px 3px 1px rgba(60, 64, 67, 0.15);\n",
              "      fill: #174EA6;\n",
              "    }\n",
              "\n",
              "    [theme=dark] .colab-df-convert {\n",
              "      background-color: #3B4455;\n",
              "      fill: #D2E3FC;\n",
              "    }\n",
              "\n",
              "    [theme=dark] .colab-df-convert:hover {\n",
              "      background-color: #434B5C;\n",
              "      box-shadow: 0px 1px 3px 1px rgba(0, 0, 0, 0.15);\n",
              "      filter: drop-shadow(0px 1px 2px rgba(0, 0, 0, 0.3));\n",
              "      fill: #FFFFFF;\n",
              "    }\n",
              "  </style>\n",
              "\n",
              "      <script>\n",
              "        const buttonEl =\n",
              "          document.querySelector('#df-5ff969d9-a319-422f-b6b5-f443871da858 button.colab-df-convert');\n",
              "        buttonEl.style.display =\n",
              "          google.colab.kernel.accessAllowed ? 'block' : 'none';\n",
              "\n",
              "        async function convertToInteractive(key) {\n",
              "          const element = document.querySelector('#df-5ff969d9-a319-422f-b6b5-f443871da858');\n",
              "          const dataTable =\n",
              "            await google.colab.kernel.invokeFunction('convertToInteractive',\n",
              "                                                     [key], {});\n",
              "          if (!dataTable) return;\n",
              "\n",
              "          const docLinkHtml = 'Like what you see? Visit the ' +\n",
              "            '<a target=\"_blank\" href=https://colab.research.google.com/notebooks/data_table.ipynb>data table notebook</a>'\n",
              "            + ' to learn more about interactive tables.';\n",
              "          element.innerHTML = '';\n",
              "          dataTable['output_type'] = 'display_data';\n",
              "          await google.colab.output.renderOutput(dataTable, element);\n",
              "          const docLink = document.createElement('div');\n",
              "          docLink.innerHTML = docLinkHtml;\n",
              "          element.appendChild(docLink);\n",
              "        }\n",
              "      </script>\n",
              "    </div>\n",
              "  </div>\n",
              "  "
            ]
          },
          "metadata": {},
          "execution_count": 4
        }
      ]
    },
    {
      "cell_type": "code",
      "source": [
        "cols_to_remove"
      ],
      "metadata": {
        "colab": {
          "base_uri": "https://localhost:8080/"
        },
        "id": "B27Ly4FgNbrK",
        "outputId": "57591676-3448-487d-9a9b-55a5936d49d7"
      },
      "execution_count": null,
      "outputs": [
        {
          "output_type": "execute_result",
          "data": {
            "text/plain": [
              "array([ 6,  7,  9, 33, 35, 37, 38, 50, 51, 56, 57])"
            ]
          },
          "metadata": {},
          "execution_count": 5
        }
      ]
    },
    {
      "cell_type": "markdown",
      "source": [
        "**Remove the rows that their mean is less then 15%**"
      ],
      "metadata": {
        "id": "SAQYxRyvvyou"
      }
    },
    {
      "cell_type": "code",
      "source": [
        "rows_to_remove = np.where(df1.isna().mean(axis = 1) > 0.15)[0]\n",
        "df2 = df1.iloc[np.setdiff1d(np.arange(0,df1.shape[0]), rows_to_remove), :]\n",
        "df2"
      ],
      "metadata": {
        "colab": {
          "base_uri": "https://localhost:8080/",
          "height": 488
        },
        "id": "INrRBDYfE-3N",
        "outputId": "b4df750c-df66-4227-800e-6c8fcf2a4e7c"
      },
      "execution_count": null,
      "outputs": [
        {
          "output_type": "execute_result",
          "data": {
            "text/plain": [
              "      CHRONO_4_CAT  AGE  RESIDENCE  BODY_FAT  WHOLE_BODY_FAT  \\\n",
              "0                3   43        1.0      36.8            26.1   \n",
              "1                3   46        1.0      43.5            51.7   \n",
              "2                2   47        1.0      31.8            18.3   \n",
              "3                2   63        2.0      37.2            27.0   \n",
              "4                4   54        1.0      36.9            24.7   \n",
              "...            ...  ...        ...       ...             ...   \n",
              "4995             1   69        1.0      26.5            17.2   \n",
              "4996             4   70        1.0      35.0            39.4   \n",
              "4997             1   63        1.0      28.0            23.8   \n",
              "4998             1   62        1.0      44.4            38.2   \n",
              "4999             1   67        1.0      41.4            30.0   \n",
              "\n",
              "      WHOLE_BODY_FATFREE  SEASON_ASSESS  DRIVE  SUMMER  WINTER  ...  \\\n",
              "0                   44.8              2    2.0     3.0     0.5  ...   \n",
              "1                   67.2              1    1.0     3.0     1.0  ...   \n",
              "2                   39.2              4    1.0     1.0     0.5  ...   \n",
              "3                   45.6              4    2.0     3.0     1.0  ...   \n",
              "4                   42.3              3    1.0     0.5     0.5  ...   \n",
              "...                  ...            ...    ...     ...     ...  ...   \n",
              "4995                47.6              4    0.0     2.0     1.0  ...   \n",
              "4996                73.1              4    0.0     0.5     0.5  ...   \n",
              "4997                61.3              2    0.0     6.0     4.0  ...   \n",
              "4998                47.8              3    1.0     5.0     0.5  ...   \n",
              "4999                42.4              1    2.0     5.0     5.0  ...   \n",
              "\n",
              "      BP_MEDS_ALL  SYS_BP_AUTO  DIA_BP_AUTO  ALCOHOL_STATUS  ALCOHOL_INTAKE  \\\n",
              "0               0          119           71             2.0             3.0   \n",
              "1               1          142           92             2.0             2.0   \n",
              "2               0          177           95             2.0             1.0   \n",
              "3               1          129           78             2.0             3.0   \n",
              "4               0          119           72             2.0             2.0   \n",
              "...           ...          ...          ...             ...             ...   \n",
              "4995            0          134           86             2.0             3.0   \n",
              "4996            0          134           91             2.0             4.0   \n",
              "4997            1          142           85             2.0             2.0   \n",
              "4998            0          168           89             2.0             4.0   \n",
              "4999            0          149           84             2.0             4.0   \n",
              "\n",
              "      FRUIT_VEG  FRUITVEG_REC     N  FULL_CVD_RISK  DRIVE_HRS  \n",
              "0      1.333333           0.0     1       0.164995          2  \n",
              "1      3.000000           0.0     2       0.505950          1  \n",
              "2      1.833333           0.0     3       0.307337          1  \n",
              "3      5.000000           1.0     4       0.535705          2  \n",
              "4      4.333333           0.0     5       0.281880          1  \n",
              "...         ...           ...   ...            ...        ...  \n",
              "4995   3.333333           0.0  4996       0.569880          0  \n",
              "4996   2.333333           0.0  4997       0.750447          0  \n",
              "4997   4.000000           0.0  4998       0.730383          0  \n",
              "4998   4.333333           0.0  4999       0.600544          1  \n",
              "4999   5.666667           1.0  5000       0.501944          2  \n",
              "\n",
              "[4983 rows x 52 columns]"
            ],
            "text/html": [
              "\n",
              "  <div id=\"df-1a608cfc-c0da-495b-8fe1-2f6b40edc88c\">\n",
              "    <div class=\"colab-df-container\">\n",
              "      <div>\n",
              "<style scoped>\n",
              "    .dataframe tbody tr th:only-of-type {\n",
              "        vertical-align: middle;\n",
              "    }\n",
              "\n",
              "    .dataframe tbody tr th {\n",
              "        vertical-align: top;\n",
              "    }\n",
              "\n",
              "    .dataframe thead th {\n",
              "        text-align: right;\n",
              "    }\n",
              "</style>\n",
              "<table border=\"1\" class=\"dataframe\">\n",
              "  <thead>\n",
              "    <tr style=\"text-align: right;\">\n",
              "      <th></th>\n",
              "      <th>CHRONO_4_CAT</th>\n",
              "      <th>AGE</th>\n",
              "      <th>RESIDENCE</th>\n",
              "      <th>BODY_FAT</th>\n",
              "      <th>WHOLE_BODY_FAT</th>\n",
              "      <th>WHOLE_BODY_FATFREE</th>\n",
              "      <th>SEASON_ASSESS</th>\n",
              "      <th>DRIVE</th>\n",
              "      <th>SUMMER</th>\n",
              "      <th>WINTER</th>\n",
              "      <th>...</th>\n",
              "      <th>BP_MEDS_ALL</th>\n",
              "      <th>SYS_BP_AUTO</th>\n",
              "      <th>DIA_BP_AUTO</th>\n",
              "      <th>ALCOHOL_STATUS</th>\n",
              "      <th>ALCOHOL_INTAKE</th>\n",
              "      <th>FRUIT_VEG</th>\n",
              "      <th>FRUITVEG_REC</th>\n",
              "      <th>N</th>\n",
              "      <th>FULL_CVD_RISK</th>\n",
              "      <th>DRIVE_HRS</th>\n",
              "    </tr>\n",
              "  </thead>\n",
              "  <tbody>\n",
              "    <tr>\n",
              "      <th>0</th>\n",
              "      <td>3</td>\n",
              "      <td>43</td>\n",
              "      <td>1.0</td>\n",
              "      <td>36.8</td>\n",
              "      <td>26.1</td>\n",
              "      <td>44.8</td>\n",
              "      <td>2</td>\n",
              "      <td>2.0</td>\n",
              "      <td>3.0</td>\n",
              "      <td>0.5</td>\n",
              "      <td>...</td>\n",
              "      <td>0</td>\n",
              "      <td>119</td>\n",
              "      <td>71</td>\n",
              "      <td>2.0</td>\n",
              "      <td>3.0</td>\n",
              "      <td>1.333333</td>\n",
              "      <td>0.0</td>\n",
              "      <td>1</td>\n",
              "      <td>0.164995</td>\n",
              "      <td>2</td>\n",
              "    </tr>\n",
              "    <tr>\n",
              "      <th>1</th>\n",
              "      <td>3</td>\n",
              "      <td>46</td>\n",
              "      <td>1.0</td>\n",
              "      <td>43.5</td>\n",
              "      <td>51.7</td>\n",
              "      <td>67.2</td>\n",
              "      <td>1</td>\n",
              "      <td>1.0</td>\n",
              "      <td>3.0</td>\n",
              "      <td>1.0</td>\n",
              "      <td>...</td>\n",
              "      <td>1</td>\n",
              "      <td>142</td>\n",
              "      <td>92</td>\n",
              "      <td>2.0</td>\n",
              "      <td>2.0</td>\n",
              "      <td>3.000000</td>\n",
              "      <td>0.0</td>\n",
              "      <td>2</td>\n",
              "      <td>0.505950</td>\n",
              "      <td>1</td>\n",
              "    </tr>\n",
              "    <tr>\n",
              "      <th>2</th>\n",
              "      <td>2</td>\n",
              "      <td>47</td>\n",
              "      <td>1.0</td>\n",
              "      <td>31.8</td>\n",
              "      <td>18.3</td>\n",
              "      <td>39.2</td>\n",
              "      <td>4</td>\n",
              "      <td>1.0</td>\n",
              "      <td>1.0</td>\n",
              "      <td>0.5</td>\n",
              "      <td>...</td>\n",
              "      <td>0</td>\n",
              "      <td>177</td>\n",
              "      <td>95</td>\n",
              "      <td>2.0</td>\n",
              "      <td>1.0</td>\n",
              "      <td>1.833333</td>\n",
              "      <td>0.0</td>\n",
              "      <td>3</td>\n",
              "      <td>0.307337</td>\n",
              "      <td>1</td>\n",
              "    </tr>\n",
              "    <tr>\n",
              "      <th>3</th>\n",
              "      <td>2</td>\n",
              "      <td>63</td>\n",
              "      <td>2.0</td>\n",
              "      <td>37.2</td>\n",
              "      <td>27.0</td>\n",
              "      <td>45.6</td>\n",
              "      <td>4</td>\n",
              "      <td>2.0</td>\n",
              "      <td>3.0</td>\n",
              "      <td>1.0</td>\n",
              "      <td>...</td>\n",
              "      <td>1</td>\n",
              "      <td>129</td>\n",
              "      <td>78</td>\n",
              "      <td>2.0</td>\n",
              "      <td>3.0</td>\n",
              "      <td>5.000000</td>\n",
              "      <td>1.0</td>\n",
              "      <td>4</td>\n",
              "      <td>0.535705</td>\n",
              "      <td>2</td>\n",
              "    </tr>\n",
              "    <tr>\n",
              "      <th>4</th>\n",
              "      <td>4</td>\n",
              "      <td>54</td>\n",
              "      <td>1.0</td>\n",
              "      <td>36.9</td>\n",
              "      <td>24.7</td>\n",
              "      <td>42.3</td>\n",
              "      <td>3</td>\n",
              "      <td>1.0</td>\n",
              "      <td>0.5</td>\n",
              "      <td>0.5</td>\n",
              "      <td>...</td>\n",
              "      <td>0</td>\n",
              "      <td>119</td>\n",
              "      <td>72</td>\n",
              "      <td>2.0</td>\n",
              "      <td>2.0</td>\n",
              "      <td>4.333333</td>\n",
              "      <td>0.0</td>\n",
              "      <td>5</td>\n",
              "      <td>0.281880</td>\n",
              "      <td>1</td>\n",
              "    </tr>\n",
              "    <tr>\n",
              "      <th>...</th>\n",
              "      <td>...</td>\n",
              "      <td>...</td>\n",
              "      <td>...</td>\n",
              "      <td>...</td>\n",
              "      <td>...</td>\n",
              "      <td>...</td>\n",
              "      <td>...</td>\n",
              "      <td>...</td>\n",
              "      <td>...</td>\n",
              "      <td>...</td>\n",
              "      <td>...</td>\n",
              "      <td>...</td>\n",
              "      <td>...</td>\n",
              "      <td>...</td>\n",
              "      <td>...</td>\n",
              "      <td>...</td>\n",
              "      <td>...</td>\n",
              "      <td>...</td>\n",
              "      <td>...</td>\n",
              "      <td>...</td>\n",
              "      <td>...</td>\n",
              "    </tr>\n",
              "    <tr>\n",
              "      <th>4995</th>\n",
              "      <td>1</td>\n",
              "      <td>69</td>\n",
              "      <td>1.0</td>\n",
              "      <td>26.5</td>\n",
              "      <td>17.2</td>\n",
              "      <td>47.6</td>\n",
              "      <td>4</td>\n",
              "      <td>0.0</td>\n",
              "      <td>2.0</td>\n",
              "      <td>1.0</td>\n",
              "      <td>...</td>\n",
              "      <td>0</td>\n",
              "      <td>134</td>\n",
              "      <td>86</td>\n",
              "      <td>2.0</td>\n",
              "      <td>3.0</td>\n",
              "      <td>3.333333</td>\n",
              "      <td>0.0</td>\n",
              "      <td>4996</td>\n",
              "      <td>0.569880</td>\n",
              "      <td>0</td>\n",
              "    </tr>\n",
              "    <tr>\n",
              "      <th>4996</th>\n",
              "      <td>4</td>\n",
              "      <td>70</td>\n",
              "      <td>1.0</td>\n",
              "      <td>35.0</td>\n",
              "      <td>39.4</td>\n",
              "      <td>73.1</td>\n",
              "      <td>4</td>\n",
              "      <td>0.0</td>\n",
              "      <td>0.5</td>\n",
              "      <td>0.5</td>\n",
              "      <td>...</td>\n",
              "      <td>0</td>\n",
              "      <td>134</td>\n",
              "      <td>91</td>\n",
              "      <td>2.0</td>\n",
              "      <td>4.0</td>\n",
              "      <td>2.333333</td>\n",
              "      <td>0.0</td>\n",
              "      <td>4997</td>\n",
              "      <td>0.750447</td>\n",
              "      <td>0</td>\n",
              "    </tr>\n",
              "    <tr>\n",
              "      <th>4997</th>\n",
              "      <td>1</td>\n",
              "      <td>63</td>\n",
              "      <td>1.0</td>\n",
              "      <td>28.0</td>\n",
              "      <td>23.8</td>\n",
              "      <td>61.3</td>\n",
              "      <td>2</td>\n",
              "      <td>0.0</td>\n",
              "      <td>6.0</td>\n",
              "      <td>4.0</td>\n",
              "      <td>...</td>\n",
              "      <td>1</td>\n",
              "      <td>142</td>\n",
              "      <td>85</td>\n",
              "      <td>2.0</td>\n",
              "      <td>2.0</td>\n",
              "      <td>4.000000</td>\n",
              "      <td>0.0</td>\n",
              "      <td>4998</td>\n",
              "      <td>0.730383</td>\n",
              "      <td>0</td>\n",
              "    </tr>\n",
              "    <tr>\n",
              "      <th>4998</th>\n",
              "      <td>1</td>\n",
              "      <td>62</td>\n",
              "      <td>1.0</td>\n",
              "      <td>44.4</td>\n",
              "      <td>38.2</td>\n",
              "      <td>47.8</td>\n",
              "      <td>3</td>\n",
              "      <td>1.0</td>\n",
              "      <td>5.0</td>\n",
              "      <td>0.5</td>\n",
              "      <td>...</td>\n",
              "      <td>0</td>\n",
              "      <td>168</td>\n",
              "      <td>89</td>\n",
              "      <td>2.0</td>\n",
              "      <td>4.0</td>\n",
              "      <td>4.333333</td>\n",
              "      <td>0.0</td>\n",
              "      <td>4999</td>\n",
              "      <td>0.600544</td>\n",
              "      <td>1</td>\n",
              "    </tr>\n",
              "    <tr>\n",
              "      <th>4999</th>\n",
              "      <td>1</td>\n",
              "      <td>67</td>\n",
              "      <td>1.0</td>\n",
              "      <td>41.4</td>\n",
              "      <td>30.0</td>\n",
              "      <td>42.4</td>\n",
              "      <td>1</td>\n",
              "      <td>2.0</td>\n",
              "      <td>5.0</td>\n",
              "      <td>5.0</td>\n",
              "      <td>...</td>\n",
              "      <td>0</td>\n",
              "      <td>149</td>\n",
              "      <td>84</td>\n",
              "      <td>2.0</td>\n",
              "      <td>4.0</td>\n",
              "      <td>5.666667</td>\n",
              "      <td>1.0</td>\n",
              "      <td>5000</td>\n",
              "      <td>0.501944</td>\n",
              "      <td>2</td>\n",
              "    </tr>\n",
              "  </tbody>\n",
              "</table>\n",
              "<p>4983 rows × 52 columns</p>\n",
              "</div>\n",
              "      <button class=\"colab-df-convert\" onclick=\"convertToInteractive('df-1a608cfc-c0da-495b-8fe1-2f6b40edc88c')\"\n",
              "              title=\"Convert this dataframe to an interactive table.\"\n",
              "              style=\"display:none;\">\n",
              "        \n",
              "  <svg xmlns=\"http://www.w3.org/2000/svg\" height=\"24px\"viewBox=\"0 0 24 24\"\n",
              "       width=\"24px\">\n",
              "    <path d=\"M0 0h24v24H0V0z\" fill=\"none\"/>\n",
              "    <path d=\"M18.56 5.44l.94 2.06.94-2.06 2.06-.94-2.06-.94-.94-2.06-.94 2.06-2.06.94zm-11 1L8.5 8.5l.94-2.06 2.06-.94-2.06-.94L8.5 2.5l-.94 2.06-2.06.94zm10 10l.94 2.06.94-2.06 2.06-.94-2.06-.94-.94-2.06-.94 2.06-2.06.94z\"/><path d=\"M17.41 7.96l-1.37-1.37c-.4-.4-.92-.59-1.43-.59-.52 0-1.04.2-1.43.59L10.3 9.45l-7.72 7.72c-.78.78-.78 2.05 0 2.83L4 21.41c.39.39.9.59 1.41.59.51 0 1.02-.2 1.41-.59l7.78-7.78 2.81-2.81c.8-.78.8-2.07 0-2.86zM5.41 20L4 18.59l7.72-7.72 1.47 1.35L5.41 20z\"/>\n",
              "  </svg>\n",
              "      </button>\n",
              "      \n",
              "  <style>\n",
              "    .colab-df-container {\n",
              "      display:flex;\n",
              "      flex-wrap:wrap;\n",
              "      gap: 12px;\n",
              "    }\n",
              "\n",
              "    .colab-df-convert {\n",
              "      background-color: #E8F0FE;\n",
              "      border: none;\n",
              "      border-radius: 50%;\n",
              "      cursor: pointer;\n",
              "      display: none;\n",
              "      fill: #1967D2;\n",
              "      height: 32px;\n",
              "      padding: 0 0 0 0;\n",
              "      width: 32px;\n",
              "    }\n",
              "\n",
              "    .colab-df-convert:hover {\n",
              "      background-color: #E2EBFA;\n",
              "      box-shadow: 0px 1px 2px rgba(60, 64, 67, 0.3), 0px 1px 3px 1px rgba(60, 64, 67, 0.15);\n",
              "      fill: #174EA6;\n",
              "    }\n",
              "\n",
              "    [theme=dark] .colab-df-convert {\n",
              "      background-color: #3B4455;\n",
              "      fill: #D2E3FC;\n",
              "    }\n",
              "\n",
              "    [theme=dark] .colab-df-convert:hover {\n",
              "      background-color: #434B5C;\n",
              "      box-shadow: 0px 1px 3px 1px rgba(0, 0, 0, 0.15);\n",
              "      filter: drop-shadow(0px 1px 2px rgba(0, 0, 0, 0.3));\n",
              "      fill: #FFFFFF;\n",
              "    }\n",
              "  </style>\n",
              "\n",
              "      <script>\n",
              "        const buttonEl =\n",
              "          document.querySelector('#df-1a608cfc-c0da-495b-8fe1-2f6b40edc88c button.colab-df-convert');\n",
              "        buttonEl.style.display =\n",
              "          google.colab.kernel.accessAllowed ? 'block' : 'none';\n",
              "\n",
              "        async function convertToInteractive(key) {\n",
              "          const element = document.querySelector('#df-1a608cfc-c0da-495b-8fe1-2f6b40edc88c');\n",
              "          const dataTable =\n",
              "            await google.colab.kernel.invokeFunction('convertToInteractive',\n",
              "                                                     [key], {});\n",
              "          if (!dataTable) return;\n",
              "\n",
              "          const docLinkHtml = 'Like what you see? Visit the ' +\n",
              "            '<a target=\"_blank\" href=https://colab.research.google.com/notebooks/data_table.ipynb>data table notebook</a>'\n",
              "            + ' to learn more about interactive tables.';\n",
              "          element.innerHTML = '';\n",
              "          dataTable['output_type'] = 'display_data';\n",
              "          await google.colab.output.renderOutput(dataTable, element);\n",
              "          const docLink = document.createElement('div');\n",
              "          docLink.innerHTML = docLinkHtml;\n",
              "          element.appendChild(docLink);\n",
              "        }\n",
              "      </script>\n",
              "    </div>\n",
              "  </div>\n",
              "  "
            ]
          },
          "metadata": {},
          "execution_count": 6
        }
      ]
    },
    {
      "cell_type": "markdown",
      "source": [
        "**Remove the rows that contains NULL values**"
      ],
      "metadata": {
        "id": "TuF5lJuwwE5K"
      }
    },
    {
      "cell_type": "code",
      "source": [
        "df2 = df2.dropna()"
      ],
      "metadata": {
        "id": "x_bXEMLgFBJ2"
      },
      "execution_count": null,
      "outputs": []
    },
    {
      "cell_type": "markdown",
      "source": [
        "**The features chosen for the rest of the process**"
      ],
      "metadata": {
        "id": "UonIEbt-wwc5"
      }
    },
    {
      "cell_type": "code",
      "source": [
        "cols = [ 'AGE','BODY_FAT', 'WHOLE_BODY_FATFREE', 'DRIVE', \n",
        "        'TV_HRS', 'COMP_HRS', 'BMI','SEX', 'SLEEP', \n",
        "        'BMI_CAT','SMOKE', 'WALK_DAYS', 'DUR_WALK', \n",
        "        'MOD_DAYS', 'VIG_DAYS', 'TOTAL_WALK', 'DRIVE_HRS',\n",
        "        'DIA_BP_AUTO']\n"
      ],
      "metadata": {
        "id": "xd8IFi7qFDYw"
      },
      "execution_count": null,
      "outputs": []
    },
    {
      "cell_type": "markdown",
      "source": [
        "**A scale of the risk score**"
      ],
      "metadata": {
        "id": "tSdzSvb7xDX4"
      }
    },
    {
      "cell_type": "code",
      "source": [
        "X = df2[cols]\n",
        "y = pd.cut(df2['FULL_CVD_RISK'], bins = [0, 0.333, 0.666, 1], labels = ['Low', 'Medium', 'High'])"
      ],
      "metadata": {
        "id": "wtxnjiPxF1KV"
      },
      "execution_count": null,
      "outputs": []
    },
    {
      "cell_type": "code",
      "source": [
        "X.shape"
      ],
      "metadata": {
        "colab": {
          "base_uri": "https://localhost:8080/"
        },
        "id": "spSSbP24F3zE",
        "outputId": "d2635fa1-5c3c-4245-f54d-4c752124602b"
      },
      "execution_count": null,
      "outputs": [
        {
          "output_type": "execute_result",
          "data": {
            "text/plain": [
              "(3560, 18)"
            ]
          },
          "metadata": {},
          "execution_count": 10
        }
      ]
    },
    {
      "cell_type": "code",
      "source": [
        "label_Low = np.where(y == 'Low')\n",
        "len(label_Low[0])"
      ],
      "metadata": {
        "colab": {
          "base_uri": "https://localhost:8080/"
        },
        "id": "-zds8Aip3Ezo",
        "outputId": "d23bcc30-1788-42c0-c365-3fbf6063b227"
      },
      "execution_count": null,
      "outputs": [
        {
          "output_type": "execute_result",
          "data": {
            "text/plain": [
              "938"
            ]
          },
          "metadata": {},
          "execution_count": 11
        }
      ]
    },
    {
      "cell_type": "code",
      "source": [
        "label_Medium = np.where(y == 'Medium')\n",
        "len(label_Medium[0])"
      ],
      "metadata": {
        "colab": {
          "base_uri": "https://localhost:8080/"
        },
        "id": "CcgtAh092_uN",
        "outputId": "d6b0edcd-6656-4f8d-b44d-a7bfe2c85e7e"
      },
      "execution_count": null,
      "outputs": [
        {
          "output_type": "execute_result",
          "data": {
            "text/plain": [
              "1956"
            ]
          },
          "metadata": {},
          "execution_count": 12
        }
      ]
    },
    {
      "cell_type": "code",
      "source": [
        "label_High = np.where(y == 'High')\n",
        "len(label_High[0])"
      ],
      "metadata": {
        "colab": {
          "base_uri": "https://localhost:8080/"
        },
        "id": "AkMUzG2xlP7P",
        "outputId": "86c2086b-7a07-4e54-b428-2e527852ba3f"
      },
      "execution_count": null,
      "outputs": [
        {
          "output_type": "execute_result",
          "data": {
            "text/plain": [
              "666"
            ]
          },
          "metadata": {},
          "execution_count": 13
        }
      ]
    },
    {
      "cell_type": "markdown",
      "source": [
        "# **Evaluation and Analysis**"
      ],
      "metadata": {
        "id": "CJBFvbNoygAe"
      }
    },
    {
      "cell_type": "code",
      "source": [
        "from sklearn.preprocessing import StandardScaler\n",
        "from sklearn.metrics import confusion_matrix\n",
        "from sklearn.model_selection import GridSearchCV, train_test_split, RandomizedSearchCV\n",
        "\n",
        "from sklearn.ensemble import RandomForestClassifier\n",
        "from sklearn.linear_model import LogisticRegression\n",
        "from sklearn.neighbors import KNeighborsClassifier"
      ],
      "metadata": {
        "id": "btwj_gEtF5hd"
      },
      "execution_count": null,
      "outputs": []
    },
    {
      "cell_type": "markdown",
      "source": [
        "**splitting to train (80%) and test (20%) sets**\n",
        "\n",
        "*   X - is the values\n",
        "*   y - is the labels\n",
        "\n",
        "\n",
        "\n",
        "\n",
        "\n",
        "\n",
        "\n"
      ],
      "metadata": {
        "id": "bqmGd9boyxBy"
      }
    },
    {
      "cell_type": "code",
      "source": [
        "X_train, X_test, y_train, y_test = train_test_split(X, y, test_size=0.2, random_state=1)"
      ],
      "metadata": {
        "id": "AXa9gmvGF8KW"
      },
      "execution_count": null,
      "outputs": []
    },
    {
      "cell_type": "markdown",
      "source": [
        "**Standardize features by removing the mean and scaling to unit variance.**"
      ],
      "metadata": {
        "id": "FVwYBMnvzQVe"
      }
    },
    {
      "cell_type": "code",
      "source": [
        "scaler = StandardScaler().fit(X_train)\n",
        "X_train_scaled = scaler.transform(X_train)\n",
        "X_test_scaled = scaler.transform(X_test)\n",
        "\n",
        "X_train_scaled.size\n"
      ],
      "metadata": {
        "colab": {
          "base_uri": "https://localhost:8080/"
        },
        "id": "CtIOl44FF93q",
        "outputId": "0d4d9fee-d378-4f0d-ad49-e9f79c2d5dae"
      },
      "execution_count": null,
      "outputs": [
        {
          "output_type": "execute_result",
          "data": {
            "text/plain": [
              "51264"
            ]
          },
          "metadata": {},
          "execution_count": 16
        }
      ]
    },
    {
      "cell_type": "code",
      "source": [
        "y_test"
      ],
      "metadata": {
        "colab": {
          "base_uri": "https://localhost:8080/"
        },
        "id": "dfoK6V47Uxp5",
        "outputId": "8dca12ce-da05-496f-939f-c0a9dc1eec55"
      },
      "execution_count": null,
      "outputs": [
        {
          "output_type": "execute_result",
          "data": {
            "text/plain": [
              "130        Low\n",
              "4571    Medium\n",
              "2570    Medium\n",
              "682     Medium\n",
              "1423    Medium\n",
              "         ...  \n",
              "1728       Low\n",
              "3617       Low\n",
              "1840      High\n",
              "1903      High\n",
              "1458    Medium\n",
              "Name: FULL_CVD_RISK, Length: 712, dtype: category\n",
              "Categories (3, object): ['Low' < 'Medium' < 'High']"
            ]
          },
          "metadata": {},
          "execution_count": 17
        }
      ]
    },
    {
      "cell_type": "code",
      "source": [
        "X_test_scaled"
      ],
      "metadata": {
        "colab": {
          "base_uri": "https://localhost:8080/"
        },
        "id": "3xtex8nJUm36",
        "outputId": "de9556a0-7e98-475f-f508-2afffe856b53"
      },
      "execution_count": null,
      "outputs": [
        {
          "output_type": "execute_result",
          "data": {
            "text/plain": [
              "array([[ 0.5434426 ,  0.32428296, -1.32968765, ...,  3.59046117,\n",
              "        -0.66119575, -1.1581307 ],\n",
              "       [-0.08255826, -0.69335826,  0.20422617, ..., -0.49233182,\n",
              "         0.14216837,  0.16799397],\n",
              "       [-1.08415963, -1.54139262,  0.15281006, ..., -0.75744825,\n",
              "         0.14216837, -0.77923794],\n",
              "       ...,\n",
              "       [ 1.04424329, -1.88060636,  0.22136487, ..., -0.30675032,\n",
              "         0.14216837,  2.25190418],\n",
              "       [-0.3329586 ,  0.05775788,  1.61816907, ...,  0.09092432,\n",
              "         0.94553248,  1.49411865],\n",
              "       [ 0.66864277,  2.11726988, -0.74697178, ...,  1.36348318,\n",
              "        -0.66119575, -1.34757709]])"
            ]
          },
          "metadata": {},
          "execution_count": 18
        }
      ]
    },
    {
      "cell_type": "markdown",
      "source": [
        "# **SVM**"
      ],
      "metadata": {
        "id": "N0Rs3iWBzbpj"
      }
    },
    {
      "cell_type": "code",
      "source": [
        "from sklearn.svm import SVC\n",
        "svm = SVC(probability=True, max_iter=1000, random_state=1) # We must restrict the number of iterations\n",
        "parameters = {'C': [1, 10, 50, 100, 150, 200, 300],\n",
        "              'kernel': ['linear', 'poly', 'rbf'],\n",
        "              'degree': np.arange(2,6,1),\n",
        "              'gamma': 10**np.arange(-5, 0, 1, dtype=np.float)}"
      ],
      "metadata": {
        "id": "dShNcnJM_L-y",
        "colab": {
          "base_uri": "https://localhost:8080/"
        },
        "outputId": "4ce42ec2-00eb-4f3b-adad-9b5587830649"
      },
      "execution_count": null,
      "outputs": [
        {
          "output_type": "stream",
          "name": "stderr",
          "text": [
            "<ipython-input-19-bdc142a2cac3>:6: DeprecationWarning: `np.float` is a deprecated alias for the builtin `float`. To silence this warning, use `float` by itself. Doing this will not modify any behavior and is safe. If you specifically wanted the numpy scalar type, use `np.float64` here.\n",
            "Deprecated in NumPy 1.20; for more details and guidance: https://numpy.org/devdocs/release/1.20.0-notes.html#deprecations\n",
            "  'gamma': 10**np.arange(-5, 0, 1, dtype=np.float)}\n"
          ]
        }
      ]
    },
    {
      "cell_type": "code",
      "source": [
        "parameters"
      ],
      "metadata": {
        "colab": {
          "base_uri": "https://localhost:8080/"
        },
        "id": "RBpsn5jJf5eX",
        "outputId": "be302334-9648-49e0-f366-6a5a4a9e7999"
      },
      "execution_count": null,
      "outputs": [
        {
          "output_type": "execute_result",
          "data": {
            "text/plain": [
              "{'C': [1, 10, 50, 100, 150, 200, 300],\n",
              " 'kernel': ['linear', 'poly', 'rbf'],\n",
              " 'degree': array([2, 3, 4, 5]),\n",
              " 'gamma': array([1.e-05, 1.e-04, 1.e-03, 1.e-02, 1.e-01])}"
            ]
          },
          "metadata": {},
          "execution_count": 20
        }
      ]
    },
    {
      "cell_type": "markdown",
      "source": [
        "## **Build The SVM model**"
      ],
      "metadata": {
        "id": "HT0DA2cm11Sq"
      }
    },
    {
      "cell_type": "markdown",
      "source": [
        "**Create the grid**"
      ],
      "metadata": {
        "id": "geSqQHNM6ENI"
      }
    },
    {
      "cell_type": "markdown",
      "source": [
        "GridSearchCV - Exhaustive search over specified parameter values for an estimator.\n"
      ],
      "metadata": {
        "id": "lUVw-0591py2"
      }
    },
    {
      "cell_type": "code",
      "source": [
        "svm_cv = GridSearchCV(svm, param_grid=parameters, cv=10, \n",
        "                             n_jobs=-1, verbose=10).fit(X_train_scaled, y_train)"
      ],
      "metadata": {
        "id": "VVdptzqF_PI7",
        "colab": {
          "base_uri": "https://localhost:8080/"
        },
        "outputId": "6e43f8f4-4703-4a89-9186-77879fbaa2e2"
      },
      "execution_count": null,
      "outputs": [
        {
          "output_type": "stream",
          "name": "stdout",
          "text": [
            "Fitting 10 folds for each of 420 candidates, totalling 4200 fits\n"
          ]
        },
        {
          "output_type": "stream",
          "name": "stderr",
          "text": [
            "/usr/local/lib/python3.8/dist-packages/sklearn/svm/_base.py:284: ConvergenceWarning: Solver terminated early (max_iter=1000).  Consider pre-processing your data with StandardScaler or MinMaxScaler.\n",
            "  warnings.warn(\n"
          ]
        }
      ]
    },
    {
      "cell_type": "code",
      "source": [
        "svm_cv.best_params_\n",
        "# Note that degree is meaningless in 'rbf' kernel "
      ],
      "metadata": {
        "id": "EfwnzcIO_WMH",
        "colab": {
          "base_uri": "https://localhost:8080/"
        },
        "outputId": "14d0e7b1-03d6-4ecb-d03b-15b6c53dc8a5"
      },
      "execution_count": null,
      "outputs": [
        {
          "output_type": "execute_result",
          "data": {
            "text/plain": [
              "{'C': 150, 'degree': 2, 'gamma': 0.001, 'kernel': 'rbf'}"
            ]
          },
          "metadata": {},
          "execution_count": 22
        }
      ]
    },
    {
      "cell_type": "code",
      "source": [
        "svm_cv.best_score_"
      ],
      "metadata": {
        "colab": {
          "base_uri": "https://localhost:8080/"
        },
        "id": "qgpjAEaYO2SL",
        "outputId": "06630896-852f-4905-ccc9-b53e4c014c28"
      },
      "execution_count": null,
      "outputs": [
        {
          "output_type": "execute_result",
          "data": {
            "text/plain": [
              "0.8219743019520633"
            ]
          },
          "metadata": {},
          "execution_count": 23
        }
      ]
    },
    {
      "cell_type": "code",
      "source": [
        "svm_cv.n_features_in_"
      ],
      "metadata": {
        "colab": {
          "base_uri": "https://localhost:8080/"
        },
        "id": "1DlG4TGlRfjZ",
        "outputId": "565fcaca-a7ba-4b6c-9dc6-44c577026ab7"
      },
      "execution_count": null,
      "outputs": [
        {
          "output_type": "execute_result",
          "data": {
            "text/plain": [
              "18"
            ]
          },
          "metadata": {},
          "execution_count": 24
        }
      ]
    },
    {
      "cell_type": "markdown",
      "source": [
        "**Save the model**"
      ],
      "metadata": {
        "id": "L_PAkBy419u4"
      }
    },
    {
      "cell_type": "code",
      "source": [
        "# Save the Modle to file in the current working directory\n",
        "import pickle\n",
        "#NEED TO CHANGE THE FILE NAME EACH TIME WHEN DUMP\n",
        "Pkl_Filename = \"y_test.csv\"  \n",
        "\n",
        "with open(Pkl_Filename, 'wb') as file:  \n",
        "    pickle.dump(y_test, file)"
      ],
      "metadata": {
        "id": "19xDY4u8GKGD"
      },
      "execution_count": null,
      "outputs": []
    },
    {
      "cell_type": "markdown",
      "source": [
        "**Prediction**"
      ],
      "metadata": {
        "id": "gj4OHYmD2PYL"
      }
    },
    {
      "cell_type": "code",
      "source": [
        "res= svm_cv.best_estimator_.predict(X_test_scaled)\n",
        "res[0]\n"
      ],
      "metadata": {
        "id": "FtcNSLahdBw1",
        "colab": {
          "base_uri": "https://localhost:8080/",
          "height": 36
        },
        "outputId": "6f74386f-1093-4eaf-9ca2-5d24db204c66"
      },
      "execution_count": null,
      "outputs": [
        {
          "output_type": "execute_result",
          "data": {
            "text/plain": [
              "'Meduim'"
            ],
            "application/vnd.google.colaboratory.intrinsic+json": {
              "type": "string"
            }
          },
          "metadata": {},
          "execution_count": 28
        }
      ]
    },
    {
      "cell_type": "code",
      "source": [
        "test = pd.Series(y_test).array\n",
        "test[0]"
      ],
      "metadata": {
        "colab": {
          "base_uri": "https://localhost:8080/",
          "height": 36
        },
        "id": "r35O88lQDgIi",
        "outputId": "0b0ca629-c3b8-4474-aa9c-c73674ba8145"
      },
      "execution_count": null,
      "outputs": [
        {
          "output_type": "execute_result",
          "data": {
            "text/plain": [
              "'Low'"
            ],
            "application/vnd.google.colaboratory.intrinsic+json": {
              "type": "string"
            }
          },
          "metadata": {},
          "execution_count": 31
        }
      ]
    },
    {
      "cell_type": "code",
      "source": [
        "np.mean(svm_cv.best_estimator_.predict(X_test_scaled) == y_test)"
      ],
      "metadata": {
        "id": "A4VisMaIdLXh",
        "colab": {
          "base_uri": "https://localhost:8080/"
        },
        "outputId": "ee4edc36-b308-4ca5-c0ae-47f3da4f58cd"
      },
      "execution_count": null,
      "outputs": [
        {
          "output_type": "execute_result",
          "data": {
            "text/plain": [
              "0.8286516853932584"
            ]
          },
          "metadata": {},
          "execution_count": 25
        }
      ]
    },
    {
      "cell_type": "markdown",
      "source": [
        "# **Logitic  Regression**"
      ],
      "metadata": {
        "id": "dFfm9AVg2sZF"
      }
    },
    {
      "cell_type": "markdown",
      "source": [
        "**Create the grid**"
      ],
      "metadata": {
        "id": "Tnjj108L6I7M"
      }
    },
    {
      "cell_type": "code",
      "source": [
        "# Regularization is a technique used to reduce the errors by fitting the function appropriately on the given training set and avoid overfitting. \n",
        "\n",
        "# penalty = [\"l1\", \"l2\", \"elasticnet\", \"none\"]\n",
        "penalty = ['none','l2', 'l1']\n",
        "C = np.linspace(0.01, 100, 25)\n",
        "\n",
        "\n",
        "# Create the grid\n",
        "logreg_grid = {\"penalty\": penalty,\n",
        "               \"C\": C\n",
        "               }\n",
        "logreg_grid      "
      ],
      "metadata": {
        "id": "J-VwRLDJ3Apw"
      },
      "execution_count": null,
      "outputs": []
    },
    {
      "cell_type": "markdown",
      "source": [
        "# **Build the LR model**"
      ],
      "metadata": {
        "id": "j6IWpQ0B3_ja"
      }
    },
    {
      "cell_type": "code",
      "source": [
        "logreg = LogisticRegression(random_state=1, multi_class = 'multinomial', solver = 'saga', max_iter = 1000)\n",
        "\n",
        "logreg_cv = GridSearchCV(logreg, logreg_grid, n_jobs = -1, cv = 10).fit(X_train_scaled, y_train)"
      ],
      "metadata": {
        "id": "SilAxQCw3QRK"
      },
      "execution_count": null,
      "outputs": []
    },
    {
      "cell_type": "code",
      "source": [
        "model = logreg_cv.best_score_"
      ],
      "metadata": {
        "id": "ZUWEyzFP3Y2i"
      },
      "execution_count": null,
      "outputs": []
    },
    {
      "cell_type": "code",
      "source": [
        "logreg_cv.best_params_"
      ],
      "metadata": {
        "id": "66k1SiVK3ajE"
      },
      "execution_count": null,
      "outputs": []
    },
    {
      "cell_type": "code",
      "source": [
        "logreg_cv.n_features_in_"
      ],
      "metadata": {
        "id": "iE60CvOS3bJi"
      },
      "execution_count": null,
      "outputs": []
    },
    {
      "cell_type": "markdown",
      "source": [
        "**plot the features score**"
      ],
      "metadata": {
        "id": "c2HSs5BI4FtG"
      }
    },
    {
      "cell_type": "code",
      "source": [
        "#These coefficients can provide the basis for a crude feature importance score\n",
        "importance = model.coef_[0]\n",
        "# summarize feature importance\n",
        "for i,v in enumerate(importance):\n",
        "\tprint('Feature: %0d, Score: %.5f col:%s' % (i,v,cols[i]))\n",
        "# plot feature importance\n",
        "pyplot.bar([x for x in range(len(importance))], importance)\n",
        "pyplot.show()"
      ],
      "metadata": {
        "id": "BEedYbDB3sdj"
      },
      "execution_count": null,
      "outputs": []
    },
    {
      "cell_type": "markdown",
      "source": [
        "**Prediction**"
      ],
      "metadata": {
        "id": "Tx0JfAy74L-y"
      }
    },
    {
      "cell_type": "code",
      "source": [
        "res = logreg_cv.best_estimator_.predict(X_test_scaled)"
      ],
      "metadata": {
        "id": "B1s2mXFq3wvl"
      },
      "execution_count": null,
      "outputs": []
    },
    {
      "cell_type": "code",
      "source": [
        "np.mean(logreg_cv.best_estimator_.predict(X_test_scaled) == y_test)"
      ],
      "metadata": {
        "id": "A6DMgsHM3y_Z"
      },
      "execution_count": null,
      "outputs": []
    },
    {
      "cell_type": "markdown",
      "source": [
        "# **Random Forest**"
      ],
      "metadata": {
        "id": "HFr5a9Iy4nVs"
      }
    },
    {
      "cell_type": "markdown",
      "source": [
        "# **k-nearest neighbors**"
      ],
      "metadata": {
        "id": "CDNaxJdf5ynf"
      }
    },
    {
      "cell_type": "markdown",
      "source": [
        "**Create the grid and load the model**"
      ],
      "metadata": {
        "id": "JyQpdFiN6KJO"
      }
    },
    {
      "cell_type": "code",
      "source": [
        "n_neighbors = np.arange(3, 99, 2)\n",
        "p = [1,2]\n",
        "\n",
        "# Create the grid\n",
        "KNN_grid = {'n_neighbors': n_neighbors, \"p\":p}\n",
        "print(KNN_grid)\n",
        "KNN = KNeighborsClassifier(n_neighbors)\n",
        "KNN_cv = GridSearchCV(KNN, KNN_grid, n_jobs = -1, cv = 10).fit(X_train_scaled, y_train)    "
      ],
      "metadata": {
        "id": "YIuxNeZ556Wq"
      },
      "execution_count": null,
      "outputs": []
    },
    {
      "cell_type": "markdown",
      "source": [
        "**Prediction**"
      ],
      "metadata": {
        "id": "Zj-mWgfJ6UhK"
      }
    },
    {
      "cell_type": "code",
      "source": [
        "KNN_cv.best_score_"
      ],
      "metadata": {
        "id": "bUQRYJ-p6XiE"
      },
      "execution_count": null,
      "outputs": []
    },
    {
      "cell_type": "code",
      "source": [
        "model = KNN_cv.best_params_"
      ],
      "metadata": {
        "id": "5R1NmytW6ZFo"
      },
      "execution_count": null,
      "outputs": []
    },
    {
      "cell_type": "code",
      "source": [
        "KNN_cv.n_features_in_"
      ],
      "metadata": {
        "id": "zT4m-oBd6b2q"
      },
      "execution_count": null,
      "outputs": []
    },
    {
      "cell_type": "code",
      "source": [
        "res= KNN_cv.best_estimator_.predict(X_test_scaled)\n",
        "res[10]"
      ],
      "metadata": {
        "id": "c68CJMSA6zl5"
      },
      "execution_count": null,
      "outputs": []
    },
    {
      "cell_type": "code",
      "source": [
        "np.mean(KNN_cv.best_estimator_.predict(X_test_scaled) == y_test)"
      ],
      "metadata": {
        "id": "tQ2_8Q-_60eu"
      },
      "execution_count": null,
      "outputs": []
    },
    {
      "cell_type": "markdown",
      "source": [
        "Accuracy classification score"
      ],
      "metadata": {
        "id": "bLiwbobW7cJA"
      }
    },
    {
      "cell_type": "code",
      "source": [
        "from sklearn.metrics import accuracy_score\n",
        "print(accuracy_score(y_test,y_pred))"
      ],
      "metadata": {
        "id": "971tCu_Q7AEv"
      },
      "execution_count": null,
      "outputs": []
    }
  ]
}